{
 "cells": [
  {
   "cell_type": "markdown",
   "metadata": {},
   "source": [
    "# COVID-19 Detection in Chest X-Ray Images\n",
    "\n",
    "The goal of this project is to build a model that identifies COVID-19, pneumonia in chest X-Ray images. The dataset is organized into 3 folders (COVID-19 cases, Normal , Pneumonia) and contains subfolders for each image category. There are 606 X-Ray images (JPEG). Data from Mendeley."
   ]
  },
  {
   "cell_type": "code",
   "execution_count": 1,
   "metadata": {},
   "outputs": [],
   "source": [
    "# ! pip install scikeras"
   ]
  },
  {
   "cell_type": "code",
   "execution_count": 2,
   "metadata": {},
   "outputs": [],
   "source": [
    "import pandas as pd\n",
    "import numpy as np\n",
    "from matplotlib import pyplot as plt\n",
    "import seaborn as sns\n",
    "import random\n",
    "from sklearn.linear_model import LogisticRegression\n",
    "from sklearn.model_selection import train_test_split as tts\n",
    "from sklearn import metrics\n",
    "from sklearn.tree import DecisionTreeRegressor, plot_tree\n",
    "from sklearn.ensemble import RandomForestRegressor\n",
    "from sklearn.metrics import mean_squared_error, r2_score\n",
    "from sklearn.model_selection import train_test_split, GridSearchCV\n",
    "from sklearn.decomposition import PCA\n",
    "\n",
    "from sklearn.tree import DecisionTreeClassifier\n",
    "from sklearn.ensemble import RandomForestClassifier\n",
    "from xgboost import XGBClassifier\n",
    "from sklearn.svm import SVC\n",
    "from sklearn.metrics import accuracy_score, recall_score, precision_score, f1_score\n",
    "import tensorflow as tf\n",
    "from tensorflow import keras\n",
    "from tensorflow.keras import callbacks\n",
    "from tensorflow.keras.models import Sequential, Model\n",
    "from tensorflow.keras.metrics import F1Score, Precision, Recall\n",
    "from tensorflow.keras.losses import BinaryCrossentropy\n",
    "from tensorflow.keras.layers import Input, Conv1D, Conv2D, MaxPooling1D, MaxPooling2D, Flatten, LSTM, Dense, TimeDistributed, Dropout, BatchNormalization, concatenate, Layer\n",
    "from scikeras.wrappers import KerasClassifier\n",
    "import scipy\n",
    "import os\n",
    "import math\n",
    "from statistics import mean\n",
    "import os\n",
    "import matplotlib.pyplot as plt\n",
    "import numpy as np\n",
    "import pandas as pd"
   ]
  },
  {
   "cell_type": "code",
   "execution_count": 3,
   "metadata": {},
   "outputs": [],
   "source": [
    "current_path = os.getcwd()"
   ]
  },
  {
   "cell_type": "markdown",
   "metadata": {},
   "source": [
    "# 1. Orignial data(224 * 224): [1 : Covid as positive; 0 : normal + Pneumonia ]"
   ]
  },
  {
   "cell_type": "code",
   "execution_count": 4,
   "metadata": {},
   "outputs": [
    {
     "data": {
      "text/html": [
       "<div>\n",
       "<style scoped>\n",
       "    .dataframe tbody tr th:only-of-type {\n",
       "        vertical-align: middle;\n",
       "    }\n",
       "\n",
       "    .dataframe tbody tr th {\n",
       "        vertical-align: top;\n",
       "    }\n",
       "\n",
       "    .dataframe thead th {\n",
       "        text-align: right;\n",
       "    }\n",
       "</style>\n",
       "<table border=\"1\" class=\"dataframe\">\n",
       "  <thead>\n",
       "    <tr style=\"text-align: right;\">\n",
       "      <th></th>\n",
       "      <th>feature0</th>\n",
       "      <th>feature1</th>\n",
       "      <th>feature2</th>\n",
       "      <th>feature3</th>\n",
       "      <th>feature4</th>\n",
       "      <th>feature5</th>\n",
       "      <th>feature6</th>\n",
       "      <th>feature7</th>\n",
       "      <th>feature8</th>\n",
       "      <th>feature9</th>\n",
       "      <th>...</th>\n",
       "      <th>feature50169</th>\n",
       "      <th>feature50170</th>\n",
       "      <th>feature50171</th>\n",
       "      <th>feature50172</th>\n",
       "      <th>feature50173</th>\n",
       "      <th>feature50174</th>\n",
       "      <th>feature50175</th>\n",
       "      <th>label</th>\n",
       "      <th>binary_label</th>\n",
       "      <th>Image_Path</th>\n",
       "    </tr>\n",
       "  </thead>\n",
       "  <tbody>\n",
       "    <tr>\n",
       "      <th>551</th>\n",
       "      <td>0.000000</td>\n",
       "      <td>0.000000</td>\n",
       "      <td>0.000000</td>\n",
       "      <td>0.000000</td>\n",
       "      <td>0.000000</td>\n",
       "      <td>0.000000</td>\n",
       "      <td>0.000000</td>\n",
       "      <td>0.000000</td>\n",
       "      <td>0.000000</td>\n",
       "      <td>0.000000</td>\n",
       "      <td>...</td>\n",
       "      <td>0.000000</td>\n",
       "      <td>0.000000</td>\n",
       "      <td>0.000000</td>\n",
       "      <td>0.000000</td>\n",
       "      <td>0.000000</td>\n",
       "      <td>0.000000</td>\n",
       "      <td>0.000000</td>\n",
       "      <td>2</td>\n",
       "      <td>False</td>\n",
       "      <td>Covid_Project/Pneumonia/person35_virus_80.jpeg</td>\n",
       "    </tr>\n",
       "    <tr>\n",
       "      <th>249</th>\n",
       "      <td>0.070588</td>\n",
       "      <td>0.074510</td>\n",
       "      <td>0.074510</td>\n",
       "      <td>0.074510</td>\n",
       "      <td>0.074510</td>\n",
       "      <td>0.074510</td>\n",
       "      <td>0.070588</td>\n",
       "      <td>0.070588</td>\n",
       "      <td>0.074510</td>\n",
       "      <td>0.074510</td>\n",
       "      <td>...</td>\n",
       "      <td>0.070588</td>\n",
       "      <td>0.070588</td>\n",
       "      <td>0.078431</td>\n",
       "      <td>0.082353</td>\n",
       "      <td>0.082353</td>\n",
       "      <td>0.082353</td>\n",
       "      <td>0.078431</td>\n",
       "      <td>1</td>\n",
       "      <td>False</td>\n",
       "      <td>Covid_Project/Normal /IM-0037-0001.jpeg</td>\n",
       "    </tr>\n",
       "    <tr>\n",
       "      <th>383</th>\n",
       "      <td>0.219608</td>\n",
       "      <td>0.243137</td>\n",
       "      <td>0.282353</td>\n",
       "      <td>0.301961</td>\n",
       "      <td>0.298039</td>\n",
       "      <td>0.309804</td>\n",
       "      <td>0.443137</td>\n",
       "      <td>0.533333</td>\n",
       "      <td>0.505882</td>\n",
       "      <td>0.486274</td>\n",
       "      <td>...</td>\n",
       "      <td>0.000000</td>\n",
       "      <td>0.000000</td>\n",
       "      <td>0.000000</td>\n",
       "      <td>0.000000</td>\n",
       "      <td>0.000000</td>\n",
       "      <td>0.000000</td>\n",
       "      <td>0.000000</td>\n",
       "      <td>1</td>\n",
       "      <td>False</td>\n",
       "      <td>Covid_Project/Normal /NORMAL2-IM-0288-0001.jpeg</td>\n",
       "    </tr>\n",
       "    <tr>\n",
       "      <th>452</th>\n",
       "      <td>0.000000</td>\n",
       "      <td>0.027451</td>\n",
       "      <td>0.082353</td>\n",
       "      <td>0.137255</td>\n",
       "      <td>0.200000</td>\n",
       "      <td>0.239216</td>\n",
       "      <td>0.262745</td>\n",
       "      <td>0.298039</td>\n",
       "      <td>0.325490</td>\n",
       "      <td>0.352941</td>\n",
       "      <td>...</td>\n",
       "      <td>0.000000</td>\n",
       "      <td>0.000000</td>\n",
       "      <td>0.000000</td>\n",
       "      <td>0.000000</td>\n",
       "      <td>0.000000</td>\n",
       "      <td>0.000000</td>\n",
       "      <td>0.000000</td>\n",
       "      <td>1</td>\n",
       "      <td>False</td>\n",
       "      <td>Covid_Project/Normal /NORMAL2-IM-0380-0001.jpeg</td>\n",
       "    </tr>\n",
       "    <tr>\n",
       "      <th>195</th>\n",
       "      <td>0.658824</td>\n",
       "      <td>0.576471</td>\n",
       "      <td>0.537255</td>\n",
       "      <td>0.505882</td>\n",
       "      <td>0.474510</td>\n",
       "      <td>0.466667</td>\n",
       "      <td>0.470588</td>\n",
       "      <td>0.474510</td>\n",
       "      <td>0.470588</td>\n",
       "      <td>0.470588</td>\n",
       "      <td>...</td>\n",
       "      <td>0.423529</td>\n",
       "      <td>0.450980</td>\n",
       "      <td>0.482353</td>\n",
       "      <td>0.505882</td>\n",
       "      <td>0.549020</td>\n",
       "      <td>0.670588</td>\n",
       "      <td>0.674510</td>\n",
       "      <td>0</td>\n",
       "      <td>True</td>\n",
       "      <td>Covid_Project/COVID-19 cases/pneumocystis-jiro...</td>\n",
       "    </tr>\n",
       "    <tr>\n",
       "      <th>208</th>\n",
       "      <td>0.090196</td>\n",
       "      <td>0.000000</td>\n",
       "      <td>0.000000</td>\n",
       "      <td>0.000000</td>\n",
       "      <td>0.000000</td>\n",
       "      <td>0.000000</td>\n",
       "      <td>0.000000</td>\n",
       "      <td>0.000000</td>\n",
       "      <td>0.000000</td>\n",
       "      <td>0.000000</td>\n",
       "      <td>...</td>\n",
       "      <td>0.690196</td>\n",
       "      <td>0.760784</td>\n",
       "      <td>0.749020</td>\n",
       "      <td>0.670588</td>\n",
       "      <td>0.619608</td>\n",
       "      <td>0.631373</td>\n",
       "      <td>0.494118</td>\n",
       "      <td>0</td>\n",
       "      <td>True</td>\n",
       "      <td>Covid_Project/COVID-19 cases/radiol.2020201160...</td>\n",
       "    </tr>\n",
       "  </tbody>\n",
       "</table>\n",
       "<p>6 rows × 50179 columns</p>\n",
       "</div>"
      ],
      "text/plain": [
       "     feature0  feature1  feature2  feature3  feature4  feature5  feature6   \n",
       "551  0.000000  0.000000  0.000000  0.000000  0.000000  0.000000  0.000000  \\\n",
       "249  0.070588  0.074510  0.074510  0.074510  0.074510  0.074510  0.070588   \n",
       "383  0.219608  0.243137  0.282353  0.301961  0.298039  0.309804  0.443137   \n",
       "452  0.000000  0.027451  0.082353  0.137255  0.200000  0.239216  0.262745   \n",
       "195  0.658824  0.576471  0.537255  0.505882  0.474510  0.466667  0.470588   \n",
       "208  0.090196  0.000000  0.000000  0.000000  0.000000  0.000000  0.000000   \n",
       "\n",
       "     feature7  feature8  feature9  ...  feature50169  feature50170   \n",
       "551  0.000000  0.000000  0.000000  ...      0.000000      0.000000  \\\n",
       "249  0.070588  0.074510  0.074510  ...      0.070588      0.070588   \n",
       "383  0.533333  0.505882  0.486274  ...      0.000000      0.000000   \n",
       "452  0.298039  0.325490  0.352941  ...      0.000000      0.000000   \n",
       "195  0.474510  0.470588  0.470588  ...      0.423529      0.450980   \n",
       "208  0.000000  0.000000  0.000000  ...      0.690196      0.760784   \n",
       "\n",
       "     feature50171  feature50172  feature50173  feature50174  feature50175   \n",
       "551      0.000000      0.000000      0.000000      0.000000      0.000000  \\\n",
       "249      0.078431      0.082353      0.082353      0.082353      0.078431   \n",
       "383      0.000000      0.000000      0.000000      0.000000      0.000000   \n",
       "452      0.000000      0.000000      0.000000      0.000000      0.000000   \n",
       "195      0.482353      0.505882      0.549020      0.670588      0.674510   \n",
       "208      0.749020      0.670588      0.619608      0.631373      0.494118   \n",
       "\n",
       "     label  binary_label                                         Image_Path  \n",
       "551      2         False     Covid_Project/Pneumonia/person35_virus_80.jpeg  \n",
       "249      1         False            Covid_Project/Normal /IM-0037-0001.jpeg  \n",
       "383      1         False    Covid_Project/Normal /NORMAL2-IM-0288-0001.jpeg  \n",
       "452      1         False    Covid_Project/Normal /NORMAL2-IM-0380-0001.jpeg  \n",
       "195      0          True  Covid_Project/COVID-19 cases/pneumocystis-jiro...  \n",
       "208      0          True  Covid_Project/COVID-19 cases/radiol.2020201160...  \n",
       "\n",
       "[6 rows x 50179 columns]"
      ]
     },
     "execution_count": 4,
     "metadata": {},
     "output_type": "execute_result"
    }
   ],
   "source": [
    "covid_data = pd.read_csv(current_path + '/csv/covid_data2.csv')\n",
    "covid_data.sample(6)"
   ]
  },
  {
   "cell_type": "code",
   "execution_count": 5,
   "metadata": {},
   "outputs": [
    {
     "data": {
      "text/plain": [
       "label\n",
       "1    234\n",
       "0    220\n",
       "2    148\n",
       "Name: count, dtype: int64"
      ]
     },
     "execution_count": 5,
     "metadata": {},
     "output_type": "execute_result"
    }
   ],
   "source": [
    "# Calculate the frequency of each category (0: COVID; 1: Normal; 2: Pneumonia)\n",
    "\n",
    "category_counts = covid_data['label'].value_counts()\n",
    "category_counts "
   ]
  },
  {
   "cell_type": "code",
   "execution_count": 6,
   "metadata": {},
   "outputs": [
    {
     "data": {
      "text/html": [
       "<div>\n",
       "<style scoped>\n",
       "    .dataframe tbody tr th:only-of-type {\n",
       "        vertical-align: middle;\n",
       "    }\n",
       "\n",
       "    .dataframe tbody tr th {\n",
       "        vertical-align: top;\n",
       "    }\n",
       "\n",
       "    .dataframe thead th {\n",
       "        text-align: right;\n",
       "    }\n",
       "</style>\n",
       "<table border=\"1\" class=\"dataframe\">\n",
       "  <thead>\n",
       "    <tr style=\"text-align: right;\">\n",
       "      <th></th>\n",
       "      <th>feature0</th>\n",
       "      <th>feature1</th>\n",
       "      <th>feature2</th>\n",
       "      <th>feature3</th>\n",
       "      <th>feature4</th>\n",
       "      <th>feature5</th>\n",
       "      <th>feature6</th>\n",
       "      <th>feature7</th>\n",
       "      <th>feature8</th>\n",
       "      <th>feature9</th>\n",
       "      <th>...</th>\n",
       "      <th>feature50167</th>\n",
       "      <th>feature50168</th>\n",
       "      <th>feature50169</th>\n",
       "      <th>feature50170</th>\n",
       "      <th>feature50171</th>\n",
       "      <th>feature50172</th>\n",
       "      <th>feature50173</th>\n",
       "      <th>feature50174</th>\n",
       "      <th>feature50175</th>\n",
       "      <th>binary_label_num</th>\n",
       "    </tr>\n",
       "  </thead>\n",
       "  <tbody>\n",
       "    <tr>\n",
       "      <th>59</th>\n",
       "      <td>0.000000</td>\n",
       "      <td>0.000000</td>\n",
       "      <td>0.000000</td>\n",
       "      <td>0.000000</td>\n",
       "      <td>0.000000</td>\n",
       "      <td>0.000000</td>\n",
       "      <td>0.000000</td>\n",
       "      <td>0.000000</td>\n",
       "      <td>0.000000</td>\n",
       "      <td>0.000000</td>\n",
       "      <td>...</td>\n",
       "      <td>0.72549</td>\n",
       "      <td>0.709804</td>\n",
       "      <td>0.694118</td>\n",
       "      <td>0.674510</td>\n",
       "      <td>0.662745</td>\n",
       "      <td>0.65098</td>\n",
       "      <td>0.635294</td>\n",
       "      <td>0.631373</td>\n",
       "      <td>0.611765</td>\n",
       "      <td>1</td>\n",
       "    </tr>\n",
       "    <tr>\n",
       "      <th>322</th>\n",
       "      <td>0.000000</td>\n",
       "      <td>0.000000</td>\n",
       "      <td>0.000000</td>\n",
       "      <td>0.000000</td>\n",
       "      <td>0.000000</td>\n",
       "      <td>0.000000</td>\n",
       "      <td>0.078431</td>\n",
       "      <td>0.145098</td>\n",
       "      <td>0.152941</td>\n",
       "      <td>0.160784</td>\n",
       "      <td>...</td>\n",
       "      <td>0.00000</td>\n",
       "      <td>0.000000</td>\n",
       "      <td>0.000000</td>\n",
       "      <td>0.000000</td>\n",
       "      <td>0.000000</td>\n",
       "      <td>0.00000</td>\n",
       "      <td>0.000000</td>\n",
       "      <td>0.000000</td>\n",
       "      <td>0.000000</td>\n",
       "      <td>0</td>\n",
       "    </tr>\n",
       "    <tr>\n",
       "      <th>72</th>\n",
       "      <td>0.000000</td>\n",
       "      <td>0.000000</td>\n",
       "      <td>0.000000</td>\n",
       "      <td>0.000000</td>\n",
       "      <td>0.003922</td>\n",
       "      <td>0.443137</td>\n",
       "      <td>0.556863</td>\n",
       "      <td>0.274510</td>\n",
       "      <td>0.003922</td>\n",
       "      <td>0.000000</td>\n",
       "      <td>...</td>\n",
       "      <td>0.47451</td>\n",
       "      <td>0.427451</td>\n",
       "      <td>0.376471</td>\n",
       "      <td>0.258824</td>\n",
       "      <td>0.000000</td>\n",
       "      <td>0.00000</td>\n",
       "      <td>0.000000</td>\n",
       "      <td>0.000000</td>\n",
       "      <td>0.000000</td>\n",
       "      <td>1</td>\n",
       "    </tr>\n",
       "    <tr>\n",
       "      <th>432</th>\n",
       "      <td>0.356863</td>\n",
       "      <td>0.337255</td>\n",
       "      <td>0.329412</td>\n",
       "      <td>0.317647</td>\n",
       "      <td>0.309804</td>\n",
       "      <td>0.321569</td>\n",
       "      <td>0.333333</td>\n",
       "      <td>0.345098</td>\n",
       "      <td>0.360784</td>\n",
       "      <td>0.372549</td>\n",
       "      <td>...</td>\n",
       "      <td>0.00000</td>\n",
       "      <td>0.000000</td>\n",
       "      <td>0.000000</td>\n",
       "      <td>0.000000</td>\n",
       "      <td>0.000000</td>\n",
       "      <td>0.00000</td>\n",
       "      <td>0.000000</td>\n",
       "      <td>0.000000</td>\n",
       "      <td>0.000000</td>\n",
       "      <td>0</td>\n",
       "    </tr>\n",
       "    <tr>\n",
       "      <th>391</th>\n",
       "      <td>0.086275</td>\n",
       "      <td>0.113725</td>\n",
       "      <td>0.133333</td>\n",
       "      <td>0.156863</td>\n",
       "      <td>0.156863</td>\n",
       "      <td>0.172549</td>\n",
       "      <td>0.184314</td>\n",
       "      <td>0.196078</td>\n",
       "      <td>0.215686</td>\n",
       "      <td>0.215686</td>\n",
       "      <td>...</td>\n",
       "      <td>0.00000</td>\n",
       "      <td>0.000000</td>\n",
       "      <td>0.000000</td>\n",
       "      <td>0.000000</td>\n",
       "      <td>0.000000</td>\n",
       "      <td>0.00000</td>\n",
       "      <td>0.000000</td>\n",
       "      <td>0.000000</td>\n",
       "      <td>0.000000</td>\n",
       "      <td>0</td>\n",
       "    </tr>\n",
       "    <tr>\n",
       "      <th>370</th>\n",
       "      <td>0.447059</td>\n",
       "      <td>0.454902</td>\n",
       "      <td>0.458824</td>\n",
       "      <td>0.435294</td>\n",
       "      <td>0.407843</td>\n",
       "      <td>0.388235</td>\n",
       "      <td>0.341176</td>\n",
       "      <td>0.360784</td>\n",
       "      <td>0.333333</td>\n",
       "      <td>0.301961</td>\n",
       "      <td>...</td>\n",
       "      <td>0.00000</td>\n",
       "      <td>0.000000</td>\n",
       "      <td>0.000000</td>\n",
       "      <td>0.000000</td>\n",
       "      <td>0.000000</td>\n",
       "      <td>0.00000</td>\n",
       "      <td>0.000000</td>\n",
       "      <td>0.000000</td>\n",
       "      <td>0.000000</td>\n",
       "      <td>0</td>\n",
       "    </tr>\n",
       "  </tbody>\n",
       "</table>\n",
       "<p>6 rows × 50177 columns</p>\n",
       "</div>"
      ],
      "text/plain": [
       "     feature0  feature1  feature2  feature3  feature4  feature5  feature6   \n",
       "59   0.000000  0.000000  0.000000  0.000000  0.000000  0.000000  0.000000  \\\n",
       "322  0.000000  0.000000  0.000000  0.000000  0.000000  0.000000  0.078431   \n",
       "72   0.000000  0.000000  0.000000  0.000000  0.003922  0.443137  0.556863   \n",
       "432  0.356863  0.337255  0.329412  0.317647  0.309804  0.321569  0.333333   \n",
       "391  0.086275  0.113725  0.133333  0.156863  0.156863  0.172549  0.184314   \n",
       "370  0.447059  0.454902  0.458824  0.435294  0.407843  0.388235  0.341176   \n",
       "\n",
       "     feature7  feature8  feature9  ...  feature50167  feature50168   \n",
       "59   0.000000  0.000000  0.000000  ...       0.72549      0.709804  \\\n",
       "322  0.145098  0.152941  0.160784  ...       0.00000      0.000000   \n",
       "72   0.274510  0.003922  0.000000  ...       0.47451      0.427451   \n",
       "432  0.345098  0.360784  0.372549  ...       0.00000      0.000000   \n",
       "391  0.196078  0.215686  0.215686  ...       0.00000      0.000000   \n",
       "370  0.360784  0.333333  0.301961  ...       0.00000      0.000000   \n",
       "\n",
       "     feature50169  feature50170  feature50171  feature50172  feature50173   \n",
       "59       0.694118      0.674510      0.662745       0.65098      0.635294  \\\n",
       "322      0.000000      0.000000      0.000000       0.00000      0.000000   \n",
       "72       0.376471      0.258824      0.000000       0.00000      0.000000   \n",
       "432      0.000000      0.000000      0.000000       0.00000      0.000000   \n",
       "391      0.000000      0.000000      0.000000       0.00000      0.000000   \n",
       "370      0.000000      0.000000      0.000000       0.00000      0.000000   \n",
       "\n",
       "     feature50174  feature50175  binary_label_num  \n",
       "59       0.631373      0.611765                 1  \n",
       "322      0.000000      0.000000                 0  \n",
       "72       0.000000      0.000000                 1  \n",
       "432      0.000000      0.000000                 0  \n",
       "391      0.000000      0.000000                 0  \n",
       "370      0.000000      0.000000                 0  \n",
       "\n",
       "[6 rows x 50177 columns]"
      ]
     },
     "execution_count": 6,
     "metadata": {},
     "output_type": "execute_result"
    }
   ],
   "source": [
    "# Set COVID as 1, normal and Pneumonia as 0\n",
    "\n",
    "covid_data['binary_label_num'] = covid_data['binary_label'].apply(lambda x: 0 if not x else 1)\n",
    "df = covid_data.copy()\n",
    "df.drop(columns=['label','binary_label', 'Image_Path'],inplace=True)\n",
    "df.sample(6)"
   ]
  },
  {
   "cell_type": "code",
   "execution_count": 7,
   "metadata": {},
   "outputs": [
    {
     "data": {
      "text/plain": [
       "binary_label_num\n",
       "0    382\n",
       "1    220\n",
       "Name: count, dtype: int64"
      ]
     },
     "execution_count": 7,
     "metadata": {},
     "output_type": "execute_result"
    }
   ],
   "source": [
    "# Calculate the frequency for negative(0: Normal + Pneumonia) and positive (1: COVID)\n",
    "counts = df['binary_label_num'].value_counts()\n",
    "counts"
   ]
  },
  {
   "cell_type": "code",
   "execution_count": 8,
   "metadata": {},
   "outputs": [],
   "source": [
    "# split the dataset\n",
    "from sklearn.model_selection import train_test_split\n",
    "\n",
    "target = df['binary_label_num'].astype('float32')\n",
    "features = df.drop(['binary_label_num'], axis=1)\n",
    "\n",
    "X_train, X_test, y_train, y_test = train_test_split(features, target, test_size=0.3, random_state=42)"
   ]
  },
  {
   "cell_type": "markdown",
   "metadata": {},
   "source": [
    "#### models were fine tuned in other files, here in this notebook, we only load those models won the best scores for each ML methods"
   ]
  },
  {
   "cell_type": "markdown",
   "metadata": {},
   "source": [
    "Hyperparameters:\n",
    "\n",
    "<img src=\"picture1.png\" alt=\"My Image\" width=\"600\"/>"
   ]
  },
  {
   "cell_type": "code",
   "execution_count": 9,
   "metadata": {},
   "outputs": [],
   "source": [
    "# .pkl model in this notebook need to use version 1.2.2 to unpacking\n",
    "# If the belowing pkl file faied to loading, run this code: \n",
    "# !pip install scikit-learn==1.2.2"
   ]
  },
  {
   "cell_type": "code",
   "execution_count": 10,
   "metadata": {},
   "outputs": [],
   "source": [
    "import pickle\n",
    "# Load the models\n",
    "model_path = current_path + '/model'\n",
    "with open(model_path + '/best_lr_model_original_1.pkl', 'rb') as file:\n",
    "    best_lr = pickle.load(file)\n",
    "\n",
    "with open(model_path + '/best_decision_tree_model_original_1.pkl', 'rb') as file:\n",
    "    best_dt = pickle.load(file)\n",
    "\n",
    "with open(model_path + '/best_random_forest_model_original_1.pkl', 'rb') as file:\n",
    "    best_rf = pickle.load(file)\n",
    "\n",
    "with open(model_path + '/best_xgboost_model_original_1.pkl', 'rb') as file:\n",
    "    best_xgb = pickle.load(file)\n",
    "\n",
    "with open(model_path + '/best_svm_model_original_1.pkl', 'rb') as file:\n",
    "    best_svm = pickle.load(file)"
   ]
  },
  {
   "cell_type": "code",
   "execution_count": 11,
   "metadata": {},
   "outputs": [],
   "source": [
    "from sklearn.linear_model import LogisticRegression\n",
    "from sklearn.tree import DecisionTreeClassifier\n",
    "from sklearn.ensemble import RandomForestClassifier\n",
    "from xgboost import XGBClassifier\n",
    "from sklearn.svm import SVC\n",
    "from sklearn.metrics import accuracy_score, recall_score, precision_score, f1_score\n",
    "from sklearn.model_selection import GridSearchCV"
   ]
  },
  {
   "cell_type": "code",
   "execution_count": 12,
   "metadata": {},
   "outputs": [],
   "source": [
    "def get_score(model, X_test, y_test):\n",
    "\n",
    "    test_preds = model.predict(X_test)\n",
    "    accuracy=accuracy_score(y_test,test_preds)\n",
    "    recall=recall_score(y_test,test_preds)\n",
    "    precision=precision_score(y_test,test_preds)\n",
    "    f1 = f1_score(y_test, test_preds)\n",
    "    \n",
    "    return accuracy, recall, precision, f1"
   ]
  },
  {
   "cell_type": "code",
   "execution_count": 13,
   "metadata": {},
   "outputs": [],
   "source": [
    "def add_to_dict(model_dict, name, accuracy, precision, recall, f1):\n",
    "    model_dict['Name'].append(name)\n",
    "    model_dict['Accuracy'].append(accuracy)\n",
    "    model_dict['Precision'].append(precision)\n",
    "    model_dict['Recall'].append(recall)\n",
    "    model_dict['F1_score'].append(f1)"
   ]
  },
  {
   "cell_type": "code",
   "execution_count": 14,
   "metadata": {},
   "outputs": [
    {
     "data": {
      "text/html": [
       "<div>\n",
       "<style scoped>\n",
       "    .dataframe tbody tr th:only-of-type {\n",
       "        vertical-align: middle;\n",
       "    }\n",
       "\n",
       "    .dataframe tbody tr th {\n",
       "        vertical-align: top;\n",
       "    }\n",
       "\n",
       "    .dataframe thead th {\n",
       "        text-align: right;\n",
       "    }\n",
       "</style>\n",
       "<table border=\"1\" class=\"dataframe\">\n",
       "  <thead>\n",
       "    <tr style=\"text-align: right;\">\n",
       "      <th></th>\n",
       "      <th>Name</th>\n",
       "      <th>Accuracy</th>\n",
       "      <th>Precision</th>\n",
       "      <th>Recall</th>\n",
       "      <th>F1_score</th>\n",
       "    </tr>\n",
       "  </thead>\n",
       "  <tbody>\n",
       "    <tr>\n",
       "      <th>0</th>\n",
       "      <td>Logistic Regression</td>\n",
       "      <td>0.950276</td>\n",
       "      <td>0.959459</td>\n",
       "      <td>0.922078</td>\n",
       "      <td>0.940397</td>\n",
       "    </tr>\n",
       "    <tr>\n",
       "      <th>1</th>\n",
       "      <td>Decision Tree</td>\n",
       "      <td>0.839779</td>\n",
       "      <td>0.887097</td>\n",
       "      <td>0.714286</td>\n",
       "      <td>0.791367</td>\n",
       "    </tr>\n",
       "    <tr>\n",
       "      <th>2</th>\n",
       "      <td>Random Forest</td>\n",
       "      <td>0.939227</td>\n",
       "      <td>0.934211</td>\n",
       "      <td>0.922078</td>\n",
       "      <td>0.928105</td>\n",
       "    </tr>\n",
       "    <tr>\n",
       "      <th>3</th>\n",
       "      <td>Xgboost</td>\n",
       "      <td>0.955801</td>\n",
       "      <td>0.985915</td>\n",
       "      <td>0.909091</td>\n",
       "      <td>0.945946</td>\n",
       "    </tr>\n",
       "    <tr>\n",
       "      <th>4</th>\n",
       "      <td>Support vector machine</td>\n",
       "      <td>0.950276</td>\n",
       "      <td>0.935897</td>\n",
       "      <td>0.948052</td>\n",
       "      <td>0.941935</td>\n",
       "    </tr>\n",
       "  </tbody>\n",
       "</table>\n",
       "</div>"
      ],
      "text/plain": [
       "                     Name  Accuracy  Precision    Recall  F1_score\n",
       "0     Logistic Regression  0.950276   0.959459  0.922078  0.940397\n",
       "1           Decision Tree  0.839779   0.887097  0.714286  0.791367\n",
       "2           Random Forest  0.939227   0.934211  0.922078  0.928105\n",
       "3                 Xgboost  0.955801   0.985915  0.909091  0.945946\n",
       "4  Support vector machine  0.950276   0.935897  0.948052  0.941935"
      ]
     },
     "execution_count": 14,
     "metadata": {},
     "output_type": "execute_result"
    }
   ],
   "source": [
    "best_model_dict_1 = {'Name':[],\n",
    "                     'Accuracy': [],\n",
    "                     'Precision': [],\n",
    "                     'Recall': [],\n",
    "                     'F1_score': []}\n",
    "\n",
    "# best lr\n",
    "accuracy, recall, precision, f1 = get_score(best_lr, X_test, y_test)\n",
    "add_to_dict(best_model_dict_1, 'Logistic Regression', accuracy, precision, recall, f1)\n",
    "\n",
    "# best dt\n",
    "accuracy, recall, precision, f1 = get_score(best_dt, X_test, y_test)\n",
    "add_to_dict(best_model_dict_1, 'Decision Tree', accuracy, precision, recall, f1)\n",
    "\n",
    "# best rf\n",
    "accuracy, recall, precision, f1 = get_score(best_rf, X_test, y_test)\n",
    "add_to_dict(best_model_dict_1, 'Random Forest', accuracy, precision, recall, f1)\n",
    "\n",
    "# best xgb\n",
    "accuracy, recall, precision, f1 = get_score(best_xgb, X_test, y_test)\n",
    "add_to_dict(best_model_dict_1, 'Xgboost', accuracy, precision, recall, f1)\n",
    "\n",
    "# best vm\n",
    "accuracy, recall, precision, f1 = get_score(best_svm, X_test, y_test)\n",
    "add_to_dict(best_model_dict_1, 'Support vector machine', accuracy, precision, recall, f1)\n",
    "\n",
    "# print results\n",
    "results_1= pd.DataFrame(best_model_dict_1)\n",
    "results_1\n",
    "#results_1.to_csv('result_orignial_data.csv', index=False)"
   ]
  },
  {
   "cell_type": "markdown",
   "metadata": {},
   "source": [
    "# 2. Crop + Augument data (256 * 256): [1: Covid; 0: normal + Pneumonia]"
   ]
  },
  {
   "cell_type": "code",
   "execution_count": 15,
   "metadata": {},
   "outputs": [],
   "source": [
    "seed = 42\n",
    "os.environ['PYTHONHASHSEED']=str(seed)\n",
    "random.seed(seed)\n",
    "np.random.seed(seed)\n",
    "tf.random.set_seed(seed)\n",
    "\n",
    "df=pd.read_csv(current_path +'/csv/covid_data_augmented_train.csv')\n",
    "df_test=pd.read_csv(current_path +'/csv/covid_data_test.csv')\n",
    "df_test_out=pd.read_csv(current_path +'/csv/Outside_test_set_cropped.csv')"
   ]
  },
  {
   "cell_type": "code",
   "execution_count": 16,
   "metadata": {},
   "outputs": [
    {
     "data": {
      "text/html": [
       "<div>\n",
       "<style scoped>\n",
       "    .dataframe tbody tr th:only-of-type {\n",
       "        vertical-align: middle;\n",
       "    }\n",
       "\n",
       "    .dataframe tbody tr th {\n",
       "        vertical-align: top;\n",
       "    }\n",
       "\n",
       "    .dataframe thead th {\n",
       "        text-align: right;\n",
       "    }\n",
       "</style>\n",
       "<table border=\"1\" class=\"dataframe\">\n",
       "  <thead>\n",
       "    <tr style=\"text-align: right;\">\n",
       "      <th></th>\n",
       "      <th>Unnamed: 0</th>\n",
       "      <th>feature0</th>\n",
       "      <th>feature1</th>\n",
       "      <th>feature2</th>\n",
       "      <th>feature3</th>\n",
       "      <th>feature4</th>\n",
       "      <th>feature5</th>\n",
       "      <th>feature6</th>\n",
       "      <th>feature7</th>\n",
       "      <th>feature8</th>\n",
       "      <th>...</th>\n",
       "      <th>feature65529</th>\n",
       "      <th>feature65530</th>\n",
       "      <th>feature65531</th>\n",
       "      <th>feature65532</th>\n",
       "      <th>feature65533</th>\n",
       "      <th>feature65534</th>\n",
       "      <th>feature65535</th>\n",
       "      <th>label</th>\n",
       "      <th>binary_label</th>\n",
       "      <th>Image_Path</th>\n",
       "    </tr>\n",
       "  </thead>\n",
       "  <tbody>\n",
       "    <tr>\n",
       "      <th>0</th>\n",
       "      <td>0</td>\n",
       "      <td>0.043137</td>\n",
       "      <td>0.062745</td>\n",
       "      <td>0.070588</td>\n",
       "      <td>0.086275</td>\n",
       "      <td>0.101961</td>\n",
       "      <td>0.109804</td>\n",
       "      <td>0.129412</td>\n",
       "      <td>0.141176</td>\n",
       "      <td>0.145098</td>\n",
       "      <td>...</td>\n",
       "      <td>0.000000</td>\n",
       "      <td>0.000000</td>\n",
       "      <td>0.000000</td>\n",
       "      <td>0.000000</td>\n",
       "      <td>0.000000</td>\n",
       "      <td>0.000000</td>\n",
       "      <td>0.000000</td>\n",
       "      <td>2</td>\n",
       "      <td>0</td>\n",
       "      <td>Covid_Project/Normal /NORMAL2-IM-0338-0001.jpeg</td>\n",
       "    </tr>\n",
       "    <tr>\n",
       "      <th>1</th>\n",
       "      <td>1</td>\n",
       "      <td>0.780392</td>\n",
       "      <td>0.949020</td>\n",
       "      <td>0.992157</td>\n",
       "      <td>0.996078</td>\n",
       "      <td>0.992157</td>\n",
       "      <td>0.850980</td>\n",
       "      <td>0.337255</td>\n",
       "      <td>0.345098</td>\n",
       "      <td>0.337255</td>\n",
       "      <td>...</td>\n",
       "      <td>0.772549</td>\n",
       "      <td>0.768627</td>\n",
       "      <td>0.756863</td>\n",
       "      <td>0.749020</td>\n",
       "      <td>0.745098</td>\n",
       "      <td>0.737255</td>\n",
       "      <td>0.745098</td>\n",
       "      <td>0</td>\n",
       "      <td>1</td>\n",
       "      <td>Covid_Project/COVID-19 cases/nCoV-radiol.20202...</td>\n",
       "    </tr>\n",
       "    <tr>\n",
       "      <th>2</th>\n",
       "      <td>2</td>\n",
       "      <td>0.168627</td>\n",
       "      <td>0.176471</td>\n",
       "      <td>0.196078</td>\n",
       "      <td>0.207843</td>\n",
       "      <td>0.215686</td>\n",
       "      <td>0.227451</td>\n",
       "      <td>0.262745</td>\n",
       "      <td>0.270588</td>\n",
       "      <td>0.282353</td>\n",
       "      <td>...</td>\n",
       "      <td>0.725490</td>\n",
       "      <td>0.600000</td>\n",
       "      <td>0.580392</td>\n",
       "      <td>0.592157</td>\n",
       "      <td>0.537255</td>\n",
       "      <td>0.407843</td>\n",
       "      <td>0.321569</td>\n",
       "      <td>2</td>\n",
       "      <td>0</td>\n",
       "      <td>Covid_Project/Normal /NORMAL2-IM-0310-0001.jpeg</td>\n",
       "    </tr>\n",
       "    <tr>\n",
       "      <th>3</th>\n",
       "      <td>3</td>\n",
       "      <td>0.000000</td>\n",
       "      <td>0.000000</td>\n",
       "      <td>0.000000</td>\n",
       "      <td>0.000000</td>\n",
       "      <td>0.000000</td>\n",
       "      <td>0.000000</td>\n",
       "      <td>0.000000</td>\n",
       "      <td>0.000000</td>\n",
       "      <td>0.000000</td>\n",
       "      <td>...</td>\n",
       "      <td>0.000000</td>\n",
       "      <td>0.000000</td>\n",
       "      <td>0.000000</td>\n",
       "      <td>0.000000</td>\n",
       "      <td>0.000000</td>\n",
       "      <td>0.000000</td>\n",
       "      <td>0.000000</td>\n",
       "      <td>1</td>\n",
       "      <td>0</td>\n",
       "      <td>Covid_Project/Pneumonia/person45_virus_95.jpeg</td>\n",
       "    </tr>\n",
       "    <tr>\n",
       "      <th>4</th>\n",
       "      <td>4</td>\n",
       "      <td>0.137255</td>\n",
       "      <td>0.129412</td>\n",
       "      <td>0.133333</td>\n",
       "      <td>0.141176</td>\n",
       "      <td>0.149020</td>\n",
       "      <td>0.160784</td>\n",
       "      <td>0.168627</td>\n",
       "      <td>0.184314</td>\n",
       "      <td>0.200000</td>\n",
       "      <td>...</td>\n",
       "      <td>0.607843</td>\n",
       "      <td>0.603922</td>\n",
       "      <td>0.607843</td>\n",
       "      <td>0.603922</td>\n",
       "      <td>0.603922</td>\n",
       "      <td>0.611765</td>\n",
       "      <td>0.615686</td>\n",
       "      <td>0</td>\n",
       "      <td>1</td>\n",
       "      <td>Covid_Project/COVID-19 cases/covid-19-pneumoni...</td>\n",
       "    </tr>\n",
       "  </tbody>\n",
       "</table>\n",
       "<p>5 rows × 65540 columns</p>\n",
       "</div>"
      ],
      "text/plain": [
       "   Unnamed: 0  feature0  feature1  feature2  feature3  feature4  feature5   \n",
       "0           0  0.043137  0.062745  0.070588  0.086275  0.101961  0.109804  \\\n",
       "1           1  0.780392  0.949020  0.992157  0.996078  0.992157  0.850980   \n",
       "2           2  0.168627  0.176471  0.196078  0.207843  0.215686  0.227451   \n",
       "3           3  0.000000  0.000000  0.000000  0.000000  0.000000  0.000000   \n",
       "4           4  0.137255  0.129412  0.133333  0.141176  0.149020  0.160784   \n",
       "\n",
       "   feature6  feature7  feature8  ...  feature65529  feature65530   \n",
       "0  0.129412  0.141176  0.145098  ...      0.000000      0.000000  \\\n",
       "1  0.337255  0.345098  0.337255  ...      0.772549      0.768627   \n",
       "2  0.262745  0.270588  0.282353  ...      0.725490      0.600000   \n",
       "3  0.000000  0.000000  0.000000  ...      0.000000      0.000000   \n",
       "4  0.168627  0.184314  0.200000  ...      0.607843      0.603922   \n",
       "\n",
       "   feature65531  feature65532  feature65533  feature65534  feature65535   \n",
       "0      0.000000      0.000000      0.000000      0.000000      0.000000  \\\n",
       "1      0.756863      0.749020      0.745098      0.737255      0.745098   \n",
       "2      0.580392      0.592157      0.537255      0.407843      0.321569   \n",
       "3      0.000000      0.000000      0.000000      0.000000      0.000000   \n",
       "4      0.607843      0.603922      0.603922      0.611765      0.615686   \n",
       "\n",
       "   label  binary_label                                         Image_Path  \n",
       "0      2             0    Covid_Project/Normal /NORMAL2-IM-0338-0001.jpeg  \n",
       "1      0             1  Covid_Project/COVID-19 cases/nCoV-radiol.20202...  \n",
       "2      2             0    Covid_Project/Normal /NORMAL2-IM-0310-0001.jpeg  \n",
       "3      1             0     Covid_Project/Pneumonia/person45_virus_95.jpeg  \n",
       "4      0             1  Covid_Project/COVID-19 cases/covid-19-pneumoni...  \n",
       "\n",
       "[5 rows x 65540 columns]"
      ]
     },
     "execution_count": 16,
     "metadata": {},
     "output_type": "execute_result"
    }
   ],
   "source": [
    "df.head()"
   ]
  },
  {
   "cell_type": "code",
   "execution_count": 17,
   "metadata": {},
   "outputs": [
    {
     "data": {
      "text/html": [
       "<div>\n",
       "<style scoped>\n",
       "    .dataframe tbody tr th:only-of-type {\n",
       "        vertical-align: middle;\n",
       "    }\n",
       "\n",
       "    .dataframe tbody tr th {\n",
       "        vertical-align: top;\n",
       "    }\n",
       "\n",
       "    .dataframe thead th {\n",
       "        text-align: right;\n",
       "    }\n",
       "</style>\n",
       "<table border=\"1\" class=\"dataframe\">\n",
       "  <thead>\n",
       "    <tr style=\"text-align: right;\">\n",
       "      <th></th>\n",
       "      <th>Unnamed: 0</th>\n",
       "      <th>feature0</th>\n",
       "      <th>feature1</th>\n",
       "      <th>feature2</th>\n",
       "      <th>feature3</th>\n",
       "      <th>feature4</th>\n",
       "      <th>feature5</th>\n",
       "      <th>feature6</th>\n",
       "      <th>feature7</th>\n",
       "      <th>feature8</th>\n",
       "      <th>...</th>\n",
       "      <th>feature65529</th>\n",
       "      <th>feature65530</th>\n",
       "      <th>feature65531</th>\n",
       "      <th>feature65532</th>\n",
       "      <th>feature65533</th>\n",
       "      <th>feature65534</th>\n",
       "      <th>feature65535</th>\n",
       "      <th>label</th>\n",
       "      <th>binary_label</th>\n",
       "      <th>Image_Path</th>\n",
       "    </tr>\n",
       "  </thead>\n",
       "  <tbody>\n",
       "    <tr>\n",
       "      <th>0</th>\n",
       "      <td>0</td>\n",
       "      <td>0.396078</td>\n",
       "      <td>0.396078</td>\n",
       "      <td>0.392157</td>\n",
       "      <td>0.400000</td>\n",
       "      <td>0.403922</td>\n",
       "      <td>0.400000</td>\n",
       "      <td>0.392157</td>\n",
       "      <td>0.396078</td>\n",
       "      <td>0.392157</td>\n",
       "      <td>...</td>\n",
       "      <td>0.807843</td>\n",
       "      <td>0.807843</td>\n",
       "      <td>0.792157</td>\n",
       "      <td>0.756863</td>\n",
       "      <td>0.725490</td>\n",
       "      <td>0.709804</td>\n",
       "      <td>0.701961</td>\n",
       "      <td>0</td>\n",
       "      <td>1</td>\n",
       "      <td>Covid_Project/COVID-19 cases/MERS-CoV-1-s2.0-S...</td>\n",
       "    </tr>\n",
       "    <tr>\n",
       "      <th>1</th>\n",
       "      <td>1</td>\n",
       "      <td>0.321569</td>\n",
       "      <td>0.345098</td>\n",
       "      <td>0.349020</td>\n",
       "      <td>0.356863</td>\n",
       "      <td>0.372549</td>\n",
       "      <td>0.376471</td>\n",
       "      <td>0.376471</td>\n",
       "      <td>0.384314</td>\n",
       "      <td>0.376471</td>\n",
       "      <td>...</td>\n",
       "      <td>0.717647</td>\n",
       "      <td>0.717647</td>\n",
       "      <td>0.701961</td>\n",
       "      <td>0.686275</td>\n",
       "      <td>0.682353</td>\n",
       "      <td>0.678431</td>\n",
       "      <td>0.654902</td>\n",
       "      <td>0</td>\n",
       "      <td>1</td>\n",
       "      <td>Covid_Project/COVID-19 cases/6CB4EFC6-68FA-4CD...</td>\n",
       "    </tr>\n",
       "    <tr>\n",
       "      <th>2</th>\n",
       "      <td>2</td>\n",
       "      <td>0.184314</td>\n",
       "      <td>0.184314</td>\n",
       "      <td>0.196078</td>\n",
       "      <td>0.215686</td>\n",
       "      <td>0.219608</td>\n",
       "      <td>0.215686</td>\n",
       "      <td>0.215686</td>\n",
       "      <td>0.219608</td>\n",
       "      <td>0.239216</td>\n",
       "      <td>...</td>\n",
       "      <td>0.560784</td>\n",
       "      <td>0.549020</td>\n",
       "      <td>0.384314</td>\n",
       "      <td>0.286275</td>\n",
       "      <td>0.258824</td>\n",
       "      <td>0.219608</td>\n",
       "      <td>0.188235</td>\n",
       "      <td>2</td>\n",
       "      <td>0</td>\n",
       "      <td>Covid_Project/Normal /NORMAL2-IM-0340-0001.jpeg</td>\n",
       "    </tr>\n",
       "    <tr>\n",
       "      <th>3</th>\n",
       "      <td>3</td>\n",
       "      <td>0.521569</td>\n",
       "      <td>0.486274</td>\n",
       "      <td>0.450980</td>\n",
       "      <td>0.443137</td>\n",
       "      <td>0.443137</td>\n",
       "      <td>0.435294</td>\n",
       "      <td>0.435294</td>\n",
       "      <td>0.439216</td>\n",
       "      <td>0.458824</td>\n",
       "      <td>...</td>\n",
       "      <td>0.188235</td>\n",
       "      <td>0.039216</td>\n",
       "      <td>0.000000</td>\n",
       "      <td>0.000000</td>\n",
       "      <td>0.000000</td>\n",
       "      <td>0.000000</td>\n",
       "      <td>0.000000</td>\n",
       "      <td>0</td>\n",
       "      <td>1</td>\n",
       "      <td>Covid_Project/COVID-19 cases/covid-19-pneumoni...</td>\n",
       "    </tr>\n",
       "    <tr>\n",
       "      <th>4</th>\n",
       "      <td>4</td>\n",
       "      <td>0.454902</td>\n",
       "      <td>0.466667</td>\n",
       "      <td>0.482353</td>\n",
       "      <td>0.490196</td>\n",
       "      <td>0.490196</td>\n",
       "      <td>0.498039</td>\n",
       "      <td>0.498039</td>\n",
       "      <td>0.505882</td>\n",
       "      <td>0.509804</td>\n",
       "      <td>...</td>\n",
       "      <td>0.423529</td>\n",
       "      <td>0.396078</td>\n",
       "      <td>0.427451</td>\n",
       "      <td>0.360784</td>\n",
       "      <td>0.247059</td>\n",
       "      <td>0.196078</td>\n",
       "      <td>0.184314</td>\n",
       "      <td>1</td>\n",
       "      <td>0</td>\n",
       "      <td>Covid_Project/Pneumonia/person54_virus_109.jpeg</td>\n",
       "    </tr>\n",
       "  </tbody>\n",
       "</table>\n",
       "<p>5 rows × 65540 columns</p>\n",
       "</div>"
      ],
      "text/plain": [
       "   Unnamed: 0  feature0  feature1  feature2  feature3  feature4  feature5   \n",
       "0           0  0.396078  0.396078  0.392157  0.400000  0.403922  0.400000  \\\n",
       "1           1  0.321569  0.345098  0.349020  0.356863  0.372549  0.376471   \n",
       "2           2  0.184314  0.184314  0.196078  0.215686  0.219608  0.215686   \n",
       "3           3  0.521569  0.486274  0.450980  0.443137  0.443137  0.435294   \n",
       "4           4  0.454902  0.466667  0.482353  0.490196  0.490196  0.498039   \n",
       "\n",
       "   feature6  feature7  feature8  ...  feature65529  feature65530   \n",
       "0  0.392157  0.396078  0.392157  ...      0.807843      0.807843  \\\n",
       "1  0.376471  0.384314  0.376471  ...      0.717647      0.717647   \n",
       "2  0.215686  0.219608  0.239216  ...      0.560784      0.549020   \n",
       "3  0.435294  0.439216  0.458824  ...      0.188235      0.039216   \n",
       "4  0.498039  0.505882  0.509804  ...      0.423529      0.396078   \n",
       "\n",
       "   feature65531  feature65532  feature65533  feature65534  feature65535   \n",
       "0      0.792157      0.756863      0.725490      0.709804      0.701961  \\\n",
       "1      0.701961      0.686275      0.682353      0.678431      0.654902   \n",
       "2      0.384314      0.286275      0.258824      0.219608      0.188235   \n",
       "3      0.000000      0.000000      0.000000      0.000000      0.000000   \n",
       "4      0.427451      0.360784      0.247059      0.196078      0.184314   \n",
       "\n",
       "   label  binary_label                                         Image_Path  \n",
       "0      0             1  Covid_Project/COVID-19 cases/MERS-CoV-1-s2.0-S...  \n",
       "1      0             1  Covid_Project/COVID-19 cases/6CB4EFC6-68FA-4CD...  \n",
       "2      2             0    Covid_Project/Normal /NORMAL2-IM-0340-0001.jpeg  \n",
       "3      0             1  Covid_Project/COVID-19 cases/covid-19-pneumoni...  \n",
       "4      1             0    Covid_Project/Pneumonia/person54_virus_109.jpeg  \n",
       "\n",
       "[5 rows x 65540 columns]"
      ]
     },
     "execution_count": 17,
     "metadata": {},
     "output_type": "execute_result"
    }
   ],
   "source": [
    "df_test.head()"
   ]
  },
  {
   "cell_type": "code",
   "execution_count": 18,
   "metadata": {},
   "outputs": [
    {
     "data": {
      "text/html": [
       "<div>\n",
       "<style scoped>\n",
       "    .dataframe tbody tr th:only-of-type {\n",
       "        vertical-align: middle;\n",
       "    }\n",
       "\n",
       "    .dataframe tbody tr th {\n",
       "        vertical-align: top;\n",
       "    }\n",
       "\n",
       "    .dataframe thead th {\n",
       "        text-align: right;\n",
       "    }\n",
       "</style>\n",
       "<table border=\"1\" class=\"dataframe\">\n",
       "  <thead>\n",
       "    <tr style=\"text-align: right;\">\n",
       "      <th></th>\n",
       "      <th>Unnamed: 0</th>\n",
       "      <th>feature0</th>\n",
       "      <th>feature1</th>\n",
       "      <th>feature2</th>\n",
       "      <th>feature3</th>\n",
       "      <th>feature4</th>\n",
       "      <th>feature5</th>\n",
       "      <th>feature6</th>\n",
       "      <th>feature7</th>\n",
       "      <th>feature8</th>\n",
       "      <th>...</th>\n",
       "      <th>feature65529</th>\n",
       "      <th>feature65530</th>\n",
       "      <th>feature65531</th>\n",
       "      <th>feature65532</th>\n",
       "      <th>feature65533</th>\n",
       "      <th>feature65534</th>\n",
       "      <th>feature65535</th>\n",
       "      <th>label</th>\n",
       "      <th>binary_label</th>\n",
       "      <th>Image_Path</th>\n",
       "    </tr>\n",
       "  </thead>\n",
       "  <tbody>\n",
       "    <tr>\n",
       "      <th>0</th>\n",
       "      <td>0</td>\n",
       "      <td>0.098039</td>\n",
       "      <td>0.098039</td>\n",
       "      <td>0.098039</td>\n",
       "      <td>0.098039</td>\n",
       "      <td>0.098039</td>\n",
       "      <td>0.098039</td>\n",
       "      <td>0.101961</td>\n",
       "      <td>0.101961</td>\n",
       "      <td>0.101961</td>\n",
       "      <td>...</td>\n",
       "      <td>0.047059</td>\n",
       "      <td>0.047059</td>\n",
       "      <td>0.047059</td>\n",
       "      <td>0.050980</td>\n",
       "      <td>0.050980</td>\n",
       "      <td>0.050980</td>\n",
       "      <td>0.054902</td>\n",
       "      <td>0</td>\n",
       "      <td>1</td>\n",
       "      <td>/Users/johnprichard/Capstone/COVID-19_Radiogra...</td>\n",
       "    </tr>\n",
       "    <tr>\n",
       "      <th>1</th>\n",
       "      <td>1</td>\n",
       "      <td>0.000000</td>\n",
       "      <td>0.000000</td>\n",
       "      <td>0.000000</td>\n",
       "      <td>0.000000</td>\n",
       "      <td>0.000000</td>\n",
       "      <td>0.000000</td>\n",
       "      <td>0.000000</td>\n",
       "      <td>0.000000</td>\n",
       "      <td>0.000000</td>\n",
       "      <td>...</td>\n",
       "      <td>0.662745</td>\n",
       "      <td>0.647059</td>\n",
       "      <td>0.643137</td>\n",
       "      <td>0.639216</td>\n",
       "      <td>0.627451</td>\n",
       "      <td>0.615686</td>\n",
       "      <td>0.600000</td>\n",
       "      <td>0</td>\n",
       "      <td>1</td>\n",
       "      <td>/Users/johnprichard/Capstone/COVID-19_Radiogra...</td>\n",
       "    </tr>\n",
       "    <tr>\n",
       "      <th>2</th>\n",
       "      <td>2</td>\n",
       "      <td>0.180392</td>\n",
       "      <td>0.180392</td>\n",
       "      <td>0.180392</td>\n",
       "      <td>0.180392</td>\n",
       "      <td>0.184314</td>\n",
       "      <td>0.188235</td>\n",
       "      <td>0.192157</td>\n",
       "      <td>0.196078</td>\n",
       "      <td>0.200000</td>\n",
       "      <td>...</td>\n",
       "      <td>0.415686</td>\n",
       "      <td>0.411765</td>\n",
       "      <td>0.403922</td>\n",
       "      <td>0.396078</td>\n",
       "      <td>0.388235</td>\n",
       "      <td>0.376471</td>\n",
       "      <td>0.360784</td>\n",
       "      <td>0</td>\n",
       "      <td>1</td>\n",
       "      <td>/Users/johnprichard/Capstone/COVID-19_Radiogra...</td>\n",
       "    </tr>\n",
       "    <tr>\n",
       "      <th>3</th>\n",
       "      <td>3</td>\n",
       "      <td>0.000000</td>\n",
       "      <td>0.003922</td>\n",
       "      <td>0.047059</td>\n",
       "      <td>0.152941</td>\n",
       "      <td>0.250980</td>\n",
       "      <td>0.290196</td>\n",
       "      <td>0.282353</td>\n",
       "      <td>0.258824</td>\n",
       "      <td>0.247059</td>\n",
       "      <td>...</td>\n",
       "      <td>0.000000</td>\n",
       "      <td>0.000000</td>\n",
       "      <td>0.000000</td>\n",
       "      <td>0.000000</td>\n",
       "      <td>0.000000</td>\n",
       "      <td>0.000000</td>\n",
       "      <td>0.000000</td>\n",
       "      <td>0</td>\n",
       "      <td>1</td>\n",
       "      <td>/Users/johnprichard/Capstone/COVID-19_Radiogra...</td>\n",
       "    </tr>\n",
       "    <tr>\n",
       "      <th>4</th>\n",
       "      <td>4</td>\n",
       "      <td>0.396078</td>\n",
       "      <td>0.431373</td>\n",
       "      <td>0.443137</td>\n",
       "      <td>0.450980</td>\n",
       "      <td>0.435294</td>\n",
       "      <td>0.407843</td>\n",
       "      <td>0.400000</td>\n",
       "      <td>0.400000</td>\n",
       "      <td>0.423529</td>\n",
       "      <td>...</td>\n",
       "      <td>0.003922</td>\n",
       "      <td>0.003922</td>\n",
       "      <td>0.000000</td>\n",
       "      <td>0.000000</td>\n",
       "      <td>0.000000</td>\n",
       "      <td>0.000000</td>\n",
       "      <td>0.003922</td>\n",
       "      <td>0</td>\n",
       "      <td>1</td>\n",
       "      <td>/Users/johnprichard/Capstone/COVID-19_Radiogra...</td>\n",
       "    </tr>\n",
       "  </tbody>\n",
       "</table>\n",
       "<p>5 rows × 65540 columns</p>\n",
       "</div>"
      ],
      "text/plain": [
       "   Unnamed: 0  feature0  feature1  feature2  feature3  feature4  feature5   \n",
       "0           0  0.098039  0.098039  0.098039  0.098039  0.098039  0.098039  \\\n",
       "1           1  0.000000  0.000000  0.000000  0.000000  0.000000  0.000000   \n",
       "2           2  0.180392  0.180392  0.180392  0.180392  0.184314  0.188235   \n",
       "3           3  0.000000  0.003922  0.047059  0.152941  0.250980  0.290196   \n",
       "4           4  0.396078  0.431373  0.443137  0.450980  0.435294  0.407843   \n",
       "\n",
       "   feature6  feature7  feature8  ...  feature65529  feature65530   \n",
       "0  0.101961  0.101961  0.101961  ...      0.047059      0.047059  \\\n",
       "1  0.000000  0.000000  0.000000  ...      0.662745      0.647059   \n",
       "2  0.192157  0.196078  0.200000  ...      0.415686      0.411765   \n",
       "3  0.282353  0.258824  0.247059  ...      0.000000      0.000000   \n",
       "4  0.400000  0.400000  0.423529  ...      0.003922      0.003922   \n",
       "\n",
       "   feature65531  feature65532  feature65533  feature65534  feature65535   \n",
       "0      0.047059      0.050980      0.050980      0.050980      0.054902  \\\n",
       "1      0.643137      0.639216      0.627451      0.615686      0.600000   \n",
       "2      0.403922      0.396078      0.388235      0.376471      0.360784   \n",
       "3      0.000000      0.000000      0.000000      0.000000      0.000000   \n",
       "4      0.000000      0.000000      0.000000      0.000000      0.003922   \n",
       "\n",
       "   label  binary_label                                         Image_Path  \n",
       "0      0             1  /Users/johnprichard/Capstone/COVID-19_Radiogra...  \n",
       "1      0             1  /Users/johnprichard/Capstone/COVID-19_Radiogra...  \n",
       "2      0             1  /Users/johnprichard/Capstone/COVID-19_Radiogra...  \n",
       "3      0             1  /Users/johnprichard/Capstone/COVID-19_Radiogra...  \n",
       "4      0             1  /Users/johnprichard/Capstone/COVID-19_Radiogra...  \n",
       "\n",
       "[5 rows x 65540 columns]"
      ]
     },
     "execution_count": 18,
     "metadata": {},
     "output_type": "execute_result"
    }
   ],
   "source": [
    "df_test_out.head()"
   ]
  },
  {
   "cell_type": "code",
   "execution_count": 19,
   "metadata": {},
   "outputs": [],
   "source": [
    "df.drop(columns=['Unnamed: 0'],inplace=True)\n",
    "df_test.drop(columns=['Unnamed: 0'],inplace=True)\n",
    "df_test_out.drop(columns=['Unnamed: 0'],inplace=True)"
   ]
  },
  {
   "cell_type": "code",
   "execution_count": 20,
   "metadata": {},
   "outputs": [],
   "source": [
    "df.reset_index(inplace=True)\n",
    "df_test.reset_index(inplace=True)\n",
    "df_test_out.reset_index(inplace=True)"
   ]
  },
  {
   "cell_type": "code",
   "execution_count": 21,
   "metadata": {},
   "outputs": [],
   "source": [
    "df.drop(columns=['index'],inplace=True)\n",
    "df_test.drop(columns=['index'],inplace=True)\n",
    "df_test_out.drop(columns=['index'],inplace=True)"
   ]
  },
  {
   "cell_type": "markdown",
   "metadata": {},
   "source": [
    "# 2.1 Exploratory Data Analysis"
   ]
  },
  {
   "cell_type": "code",
   "execution_count": 22,
   "metadata": {},
   "outputs": [
    {
     "data": {
      "text/plain": [
       "feature0        0\n",
       "feature1        0\n",
       "feature2        0\n",
       "feature3        0\n",
       "feature4        0\n",
       "               ..\n",
       "feature65534    0\n",
       "feature65535    0\n",
       "label           0\n",
       "binary_label    0\n",
       "Image_Path      0\n",
       "Length: 65539, dtype: int64"
      ]
     },
     "execution_count": 22,
     "metadata": {},
     "output_type": "execute_result"
    }
   ],
   "source": [
    "missing_sum = df.isna().sum()\n",
    "missing_sum"
   ]
  },
  {
   "cell_type": "code",
   "execution_count": 23,
   "metadata": {},
   "outputs": [
    {
     "data": {
      "text/plain": [
       "0"
      ]
     },
     "execution_count": 23,
     "metadata": {},
     "output_type": "execute_result"
    }
   ],
   "source": [
    "max(missing_sum)"
   ]
  },
  {
   "cell_type": "code",
   "execution_count": 24,
   "metadata": {},
   "outputs": [
    {
     "data": {
      "text/plain": [
       "binary_label\n",
       "0    622\n",
       "1    282\n",
       "Name: feature0, dtype: int64"
      ]
     },
     "execution_count": 24,
     "metadata": {},
     "output_type": "execute_result"
    }
   ],
   "source": [
    "df['feature0'].groupby(df['binary_label']).count()"
   ]
  },
  {
   "cell_type": "code",
   "execution_count": 25,
   "metadata": {},
   "outputs": [
    {
     "data": {
      "text/html": [
       "<div>\n",
       "<style scoped>\n",
       "    .dataframe tbody tr th:only-of-type {\n",
       "        vertical-align: middle;\n",
       "    }\n",
       "\n",
       "    .dataframe tbody tr th {\n",
       "        vertical-align: top;\n",
       "    }\n",
       "\n",
       "    .dataframe thead th {\n",
       "        text-align: right;\n",
       "    }\n",
       "</style>\n",
       "<table border=\"1\" class=\"dataframe\">\n",
       "  <thead>\n",
       "    <tr style=\"text-align: right;\">\n",
       "      <th></th>\n",
       "      <th>count</th>\n",
       "      <th>mean</th>\n",
       "      <th>std</th>\n",
       "      <th>min</th>\n",
       "      <th>25%</th>\n",
       "      <th>50%</th>\n",
       "      <th>75%</th>\n",
       "      <th>max</th>\n",
       "    </tr>\n",
       "  </thead>\n",
       "  <tbody>\n",
       "    <tr>\n",
       "      <th>feature0</th>\n",
       "      <td>904.0</td>\n",
       "      <td>0.313552</td>\n",
       "      <td>0.262401</td>\n",
       "      <td>0.0</td>\n",
       "      <td>0.058824</td>\n",
       "      <td>0.286275</td>\n",
       "      <td>0.513726</td>\n",
       "      <td>1.0</td>\n",
       "    </tr>\n",
       "    <tr>\n",
       "      <th>feature1</th>\n",
       "      <td>904.0</td>\n",
       "      <td>0.322553</td>\n",
       "      <td>0.259273</td>\n",
       "      <td>0.0</td>\n",
       "      <td>0.066667</td>\n",
       "      <td>0.305882</td>\n",
       "      <td>0.518627</td>\n",
       "      <td>1.0</td>\n",
       "    </tr>\n",
       "    <tr>\n",
       "      <th>feature2</th>\n",
       "      <td>904.0</td>\n",
       "      <td>0.330960</td>\n",
       "      <td>0.256919</td>\n",
       "      <td>0.0</td>\n",
       "      <td>0.078431</td>\n",
       "      <td>0.317647</td>\n",
       "      <td>0.525490</td>\n",
       "      <td>1.0</td>\n",
       "    </tr>\n",
       "    <tr>\n",
       "      <th>feature3</th>\n",
       "      <td>904.0</td>\n",
       "      <td>0.341090</td>\n",
       "      <td>0.255441</td>\n",
       "      <td>0.0</td>\n",
       "      <td>0.090196</td>\n",
       "      <td>0.331373</td>\n",
       "      <td>0.537255</td>\n",
       "      <td>1.0</td>\n",
       "    </tr>\n",
       "    <tr>\n",
       "      <th>feature4</th>\n",
       "      <td>904.0</td>\n",
       "      <td>0.351805</td>\n",
       "      <td>0.254505</td>\n",
       "      <td>0.0</td>\n",
       "      <td>0.101961</td>\n",
       "      <td>0.345098</td>\n",
       "      <td>0.549020</td>\n",
       "      <td>1.0</td>\n",
       "    </tr>\n",
       "    <tr>\n",
       "      <th>...</th>\n",
       "      <td>...</td>\n",
       "      <td>...</td>\n",
       "      <td>...</td>\n",
       "      <td>...</td>\n",
       "      <td>...</td>\n",
       "      <td>...</td>\n",
       "      <td>...</td>\n",
       "      <td>...</td>\n",
       "    </tr>\n",
       "    <tr>\n",
       "      <th>feature65533</th>\n",
       "      <td>904.0</td>\n",
       "      <td>0.321326</td>\n",
       "      <td>0.240519</td>\n",
       "      <td>0.0</td>\n",
       "      <td>0.086275</td>\n",
       "      <td>0.307843</td>\n",
       "      <td>0.506863</td>\n",
       "      <td>1.0</td>\n",
       "    </tr>\n",
       "    <tr>\n",
       "      <th>feature65534</th>\n",
       "      <td>904.0</td>\n",
       "      <td>0.310255</td>\n",
       "      <td>0.240344</td>\n",
       "      <td>0.0</td>\n",
       "      <td>0.074510</td>\n",
       "      <td>0.298039</td>\n",
       "      <td>0.495098</td>\n",
       "      <td>1.0</td>\n",
       "    </tr>\n",
       "    <tr>\n",
       "      <th>feature65535</th>\n",
       "      <td>904.0</td>\n",
       "      <td>0.299740</td>\n",
       "      <td>0.238973</td>\n",
       "      <td>0.0</td>\n",
       "      <td>0.074510</td>\n",
       "      <td>0.280392</td>\n",
       "      <td>0.479412</td>\n",
       "      <td>1.0</td>\n",
       "    </tr>\n",
       "    <tr>\n",
       "      <th>label</th>\n",
       "      <td>904.0</td>\n",
       "      <td>1.110619</td>\n",
       "      <td>0.850339</td>\n",
       "      <td>0.0</td>\n",
       "      <td>0.000000</td>\n",
       "      <td>1.000000</td>\n",
       "      <td>2.000000</td>\n",
       "      <td>2.0</td>\n",
       "    </tr>\n",
       "    <tr>\n",
       "      <th>binary_label</th>\n",
       "      <td>904.0</td>\n",
       "      <td>0.311947</td>\n",
       "      <td>0.463545</td>\n",
       "      <td>0.0</td>\n",
       "      <td>0.000000</td>\n",
       "      <td>0.000000</td>\n",
       "      <td>1.000000</td>\n",
       "      <td>1.0</td>\n",
       "    </tr>\n",
       "  </tbody>\n",
       "</table>\n",
       "<p>65538 rows × 8 columns</p>\n",
       "</div>"
      ],
      "text/plain": [
       "              count      mean       std  min       25%       50%       75%   \n",
       "feature0      904.0  0.313552  0.262401  0.0  0.058824  0.286275  0.513726  \\\n",
       "feature1      904.0  0.322553  0.259273  0.0  0.066667  0.305882  0.518627   \n",
       "feature2      904.0  0.330960  0.256919  0.0  0.078431  0.317647  0.525490   \n",
       "feature3      904.0  0.341090  0.255441  0.0  0.090196  0.331373  0.537255   \n",
       "feature4      904.0  0.351805  0.254505  0.0  0.101961  0.345098  0.549020   \n",
       "...             ...       ...       ...  ...       ...       ...       ...   \n",
       "feature65533  904.0  0.321326  0.240519  0.0  0.086275  0.307843  0.506863   \n",
       "feature65534  904.0  0.310255  0.240344  0.0  0.074510  0.298039  0.495098   \n",
       "feature65535  904.0  0.299740  0.238973  0.0  0.074510  0.280392  0.479412   \n",
       "label         904.0  1.110619  0.850339  0.0  0.000000  1.000000  2.000000   \n",
       "binary_label  904.0  0.311947  0.463545  0.0  0.000000  0.000000  1.000000   \n",
       "\n",
       "              max  \n",
       "feature0      1.0  \n",
       "feature1      1.0  \n",
       "feature2      1.0  \n",
       "feature3      1.0  \n",
       "feature4      1.0  \n",
       "...           ...  \n",
       "feature65533  1.0  \n",
       "feature65534  1.0  \n",
       "feature65535  1.0  \n",
       "label         2.0  \n",
       "binary_label  1.0  \n",
       "\n",
       "[65538 rows x 8 columns]"
      ]
     },
     "execution_count": 25,
     "metadata": {},
     "output_type": "execute_result"
    }
   ],
   "source": [
    "covid_data_describe = df.describe().T\n",
    "covid_data_describe"
   ]
  },
  {
   "cell_type": "code",
   "execution_count": 26,
   "metadata": {},
   "outputs": [],
   "source": [
    "covid_data_describe.reset_index(inplace=True)"
   ]
  },
  {
   "cell_type": "code",
   "execution_count": 27,
   "metadata": {},
   "outputs": [],
   "source": [
    "rng = []\n",
    "len_data = len(covid_data_describe)\n",
    "for i in range(len(covid_data_describe)):\n",
    "  rng += [covid_data_describe.loc[i]['max'] - covid_data_describe.loc[i]['min']]\n",
    "covid_data_describe['range'] = rng"
   ]
  },
  {
   "cell_type": "code",
   "execution_count": 28,
   "metadata": {},
   "outputs": [
    {
     "data": {
      "text/plain": [
       "0.6627450883388519"
      ]
     },
     "execution_count": 28,
     "metadata": {},
     "output_type": "execute_result"
    }
   ],
   "source": [
    "covid_data_describe['range'].min()"
   ]
  },
  {
   "cell_type": "code",
   "execution_count": 29,
   "metadata": {},
   "outputs": [
    {
     "name": "stdout",
     "output_type": "stream",
     "text": [
      "           firstcol       lastcol       min       avg  max\n",
      "0          feature0      feature5  0.891030  0.957267  1.0\n",
      "1          feature5     feature10  0.878315  0.950301  1.0\n",
      "2         feature10     feature15  0.889681  0.957228  1.0\n",
      "3         feature15     feature20  0.880894  0.960879  1.0\n",
      "4         feature20     feature25  0.896341  0.958279  1.0\n",
      "...             ...           ...       ...       ...  ...\n",
      "13102  feature65510  feature65515  0.897528  0.963039  1.0\n",
      "13103  feature65515  feature65520  0.902509  0.965627  1.0\n",
      "13104  feature65520  feature65525  0.885113  0.954388  1.0\n",
      "13105  feature65525  feature65530  0.883465  0.956552  1.0\n",
      "13106  feature65530  feature65535  0.908114  0.970366  1.0\n",
      "\n",
      "[13107 rows x 5 columns]\n"
     ]
    }
   ],
   "source": [
    "minmax_corr = pd.DataFrame(columns = ['firstcol','lastcol','min','avg','max'])\n",
    "for i in range(int(len(df.columns)/5)):\n",
    "  corr_all_matrix = df.iloc[:,5*i:min(5*(i+1),len(df.columns))].select_dtypes(include = \"number\").corr()\n",
    "  corr_all_df = corr_all_matrix.stack().reset_index()\n",
    "  corr_all_df.columns = ['v1', 'v2', 'correlation']\n",
    "  minmax_corr.loc[len(minmax_corr)] = [df.columns[5*i],df.columns[min(5*(i+1),len(df.columns)-1)],min(corr_all_df.correlation.abs()),mean(corr_all_df.correlation.abs()),max(corr_all_df.correlation.abs())]\n",
    "  # corr_all_df_sort = corr_all_df.loc[corr_all_df.correlation.abs().sort_values(ascending= False).index]\n",
    "  # print(corr_all_df_sort.loc[(corr_all_df_sort.v1 != corr_all_df_sort.v2) & (corr_all_df_sort.correlation.abs() > 0.8)])\n",
    "print(minmax_corr)"
   ]
  },
  {
   "cell_type": "code",
   "execution_count": 30,
   "metadata": {},
   "outputs": [
    {
     "data": {
      "image/png": "[encoded data removed]",
      "text/plain": [
       "<Figure size 800x800 with 1 Axes>"
      ]
     },
     "metadata": {},
     "output_type": "display_data"
    }
   ],
   "source": [
    "plt.figure(figsize = (8,8))\n",
    "sns.boxplot(minmax_corr['avg'])\n",
    "plt.show()"
   ]
  },
  {
   "cell_type": "code",
   "execution_count": 31,
   "metadata": {},
   "outputs": [],
   "source": [
    "covid_data_5 = df[[f\"feature{i*5}\" for i in range(int(len(df.columns)/5))]]"
   ]
  },
  {
   "cell_type": "code",
   "execution_count": 32,
   "metadata": {},
   "outputs": [
    {
     "name": "stdout",
     "output_type": "stream",
     "text": [
      "          firstcol       lastcol       min       avg  max\n",
      "0         feature0     feature25  0.584655  0.796792  1.0\n",
      "1        feature25     feature50  0.780590  0.906164  1.0\n",
      "2        feature50     feature75  0.883784  0.951339  1.0\n",
      "3        feature75    feature100  0.847422  0.937222  1.0\n",
      "4       feature100    feature125  0.861473  0.934422  1.0\n",
      "...            ...           ...       ...       ...  ...\n",
      "2616  feature65400  feature65425  0.906182  0.944989  1.0\n",
      "2617  feature65425  feature65450  0.836949  0.931270  1.0\n",
      "2618  feature65450  feature65475  0.845772  0.937411  1.0\n",
      "2619  feature65475  feature65500  0.818075  0.934288  1.0\n",
      "2620  feature65500  feature65525  0.707450  0.856393  1.0\n",
      "\n",
      "[2621 rows x 5 columns]\n"
     ]
    }
   ],
   "source": [
    "minmax_corr2 = pd.DataFrame(columns = ['firstcol','lastcol','min','avg','max'])\n",
    "for i in range(int(len(covid_data_5.columns)/5)):\n",
    "  corr_all_matrix = covid_data_5.iloc[:,5*i:min(5*(i+1),len(covid_data_5.columns))].select_dtypes(include = \"number\").corr()\n",
    "  corr_all_df = corr_all_matrix.stack().reset_index()\n",
    "  corr_all_df.columns = ['v1', 'v2', 'correlation']\n",
    "  minmax_corr2.loc[len(minmax_corr2)] = [covid_data_5.columns[5*i],covid_data_5.columns[min(5*(i+1),len(covid_data_5.columns)-1)],min(corr_all_df.correlation.abs()),mean(corr_all_df.correlation.abs()),max(corr_all_df.correlation.abs())]\n",
    "print(minmax_corr2)"
   ]
  },
  {
   "cell_type": "code",
   "execution_count": 33,
   "metadata": {},
   "outputs": [
    {
     "data": {
      "image/png": "[encoded data removed]",
      "text/plain": [
       "<Figure size 800x800 with 1 Axes>"
      ]
     },
     "metadata": {},
     "output_type": "display_data"
    }
   ],
   "source": [
    "plt.figure(figsize = (8,8))\n",
    "sns.boxplot(minmax_corr2['avg'])\n",
    "plt.show()"
   ]
  },
  {
   "cell_type": "code",
   "execution_count": 34,
   "metadata": {},
   "outputs": [],
   "source": [
    "covid_data_25 = df[[f\"feature{i*25}\" for i in range(int(len(df.columns)/25))]]"
   ]
  },
  {
   "cell_type": "code",
   "execution_count": 35,
   "metadata": {},
   "outputs": [
    {
     "name": "stdout",
     "output_type": "stream",
     "text": [
      "         firstcol       lastcol       min       avg  max\n",
      "0        feature0    feature125  0.206202  0.655821  1.0\n",
      "1      feature125    feature250  0.579938  0.784276  1.0\n",
      "2      feature250    feature375  0.269322  0.660076  1.0\n",
      "3      feature375    feature500  0.632474  0.797846  1.0\n",
      "4      feature500    feature625  0.395488  0.671021  1.0\n",
      "..            ...           ...       ...       ...  ...\n",
      "519  feature64875  feature65000  0.666118  0.818158  1.0\n",
      "520  feature65000  feature65125  0.224020  0.637980  1.0\n",
      "521  feature65125  feature65250  0.697740  0.830043  1.0\n",
      "522  feature65250  feature65375  0.278064  0.663257  1.0\n",
      "523  feature65375  feature65500  0.696786  0.833121  1.0\n",
      "\n",
      "[524 rows x 5 columns]\n"
     ]
    }
   ],
   "source": [
    "minmax_corr3 = pd.DataFrame(columns = ['firstcol','lastcol','min','avg','max'])\n",
    "for i in range(int(len(covid_data_25.columns)/5)):\n",
    "  corr_all_matrix = covid_data_25.iloc[:,5*i:min(5*(i+1),len(covid_data_25.columns))].select_dtypes(include = \"number\").corr()\n",
    "  corr_all_df = corr_all_matrix.stack().reset_index()\n",
    "  corr_all_df.columns = ['v1', 'v2', 'correlation']\n",
    "  minmax_corr3.loc[len(minmax_corr3)] = [covid_data_25.columns[5*i],covid_data_25.columns[min(5*(i+1),len(covid_data_25.columns))],min(corr_all_df.correlation.abs()),mean(corr_all_df.correlation.abs()),max(corr_all_df.correlation.abs())]\n",
    "print(minmax_corr3)"
   ]
  },
  {
   "cell_type": "code",
   "execution_count": 36,
   "metadata": {},
   "outputs": [
    {
     "data": {
      "image/png": "[encoded data removed]",
      "text/plain": [
       "<Figure size 800x800 with 1 Axes>"
      ]
     },
     "metadata": {},
     "output_type": "display_data"
    }
   ],
   "source": [
    "plt.figure(figsize = (8,8))\n",
    "sns.boxplot(minmax_corr3['avg'])\n",
    "plt.show()"
   ]
  },
  {
   "cell_type": "code",
   "execution_count": 37,
   "metadata": {},
   "outputs": [],
   "source": [
    "features=[col for col in df.columns if col not in ['label','binary_label','Image_Path']]\n",
    "X_train=df[features]\n",
    "X_test=df_test[features]\n",
    "X_test_out=df_test_out[features]\n",
    "y_train=df['binary_label']\n",
    "y_test=df_test['binary_label']\n",
    "y_test_out=df_test_out['binary_label']"
   ]
  },
  {
   "cell_type": "markdown",
   "metadata": {},
   "source": [
    "## 2.2 Hyperparameters:\n",
    "\n",
    "models were tuned in other jupyter notebook files, the hyperparameters for lr, dt, rf, xgb, svm models are as bellow:\n",
    "\n",
    "<img src=\"picture2.png\" alt=\"My Image\" width=\"600\"/>"
   ]
  },
  {
   "cell_type": "markdown",
   "metadata": {},
   "source": [
    "## 2.3 Fine tuned lr, dt, rf, xgb, svm models:"
   ]
  },
  {
   "cell_type": "code",
   "execution_count": 38,
   "metadata": {},
   "outputs": [],
   "source": [
    "# .pkl model need to use version 1.2.2 to unpacking\n",
    "# If the belowing pkl file faied to loading, run this code: \n",
    "# !pip install scikit-learn==1.2.2"
   ]
  },
  {
   "cell_type": "code",
   "execution_count": 39,
   "metadata": {},
   "outputs": [],
   "source": [
    "# Load the lr, dt, rf, xgb, svm models\n",
    "with open(model_path + '/best_lr_model_augument_1.pkl', 'rb') as file:\n",
    "    best_lr = pickle.load(file)\n",
    "\n",
    "with open(model_path + '/best_decision_tree_model_augument_1.pkl', 'rb') as file:\n",
    "    best_dt = pickle.load(file)\n",
    "\n",
    "with open(model_path + '/best_random_forest_model_augument_1_1.pkl', 'rb') as file:\n",
    "    best_rf_1 = pickle.load(file)\n",
    "\n",
    "with open(model_path + '/best_random_forest_model_augument_1_2.pkl', 'rb') as file:\n",
    "    best_rf_2 = pickle.load(file)\n",
    "\n",
    "with open(model_path + '/best_xgboost_model_augument_1.pkl', 'rb') as file:\n",
    "    best_xgb = pickle.load(file)\n",
    "\n",
    "with open(model_path + '/best_svm_model_augument_1.pkl', 'rb') as file:\n",
    "    best_svm_rbf = pickle.load(file)\n",
    "\n",
    "with open(model_path + '/best_svm_linear_model_augument_1.pkl', 'rb') as file:\n",
    "    best_svm_linear = pickle.load(file)"
   ]
  },
  {
   "cell_type": "markdown",
   "metadata": {},
   "source": [
    "## 2.3.1 Evaluation on test set"
   ]
  },
  {
   "cell_type": "code",
   "execution_count": 40,
   "metadata": {},
   "outputs": [
    {
     "data": {
      "text/html": [
       "<div>\n",
       "<style scoped>\n",
       "    .dataframe tbody tr th:only-of-type {\n",
       "        vertical-align: middle;\n",
       "    }\n",
       "\n",
       "    .dataframe tbody tr th {\n",
       "        vertical-align: top;\n",
       "    }\n",
       "\n",
       "    .dataframe thead th {\n",
       "        text-align: right;\n",
       "    }\n",
       "</style>\n",
       "<table border=\"1\" class=\"dataframe\">\n",
       "  <thead>\n",
       "    <tr style=\"text-align: right;\">\n",
       "      <th></th>\n",
       "      <th>Name</th>\n",
       "      <th>Accuracy</th>\n",
       "      <th>Precision</th>\n",
       "      <th>Recall</th>\n",
       "      <th>F1_score</th>\n",
       "    </tr>\n",
       "  </thead>\n",
       "  <tbody>\n",
       "    <tr>\n",
       "      <th>0</th>\n",
       "      <td>Logistic Regression</td>\n",
       "      <td>0.920354</td>\n",
       "      <td>0.883721</td>\n",
       "      <td>0.904762</td>\n",
       "      <td>0.894118</td>\n",
       "    </tr>\n",
       "    <tr>\n",
       "      <th>1</th>\n",
       "      <td>Decision Tree</td>\n",
       "      <td>0.849558</td>\n",
       "      <td>0.820513</td>\n",
       "      <td>0.761905</td>\n",
       "      <td>0.790123</td>\n",
       "    </tr>\n",
       "    <tr>\n",
       "      <th>2</th>\n",
       "      <td>Random Forest_1</td>\n",
       "      <td>0.938053</td>\n",
       "      <td>0.948718</td>\n",
       "      <td>0.880952</td>\n",
       "      <td>0.913580</td>\n",
       "    </tr>\n",
       "    <tr>\n",
       "      <th>3</th>\n",
       "      <td>Random Forest_1</td>\n",
       "      <td>0.938053</td>\n",
       "      <td>0.948718</td>\n",
       "      <td>0.880952</td>\n",
       "      <td>0.913580</td>\n",
       "    </tr>\n",
       "    <tr>\n",
       "      <th>4</th>\n",
       "      <td>Xgboost</td>\n",
       "      <td>0.964602</td>\n",
       "      <td>0.975000</td>\n",
       "      <td>0.928571</td>\n",
       "      <td>0.951220</td>\n",
       "    </tr>\n",
       "    <tr>\n",
       "      <th>5</th>\n",
       "      <td>Supper Vector Machine: rbf</td>\n",
       "      <td>0.938053</td>\n",
       "      <td>0.948718</td>\n",
       "      <td>0.880952</td>\n",
       "      <td>0.913580</td>\n",
       "    </tr>\n",
       "    <tr>\n",
       "      <th>6</th>\n",
       "      <td>Supper Vector Machine: linear</td>\n",
       "      <td>0.929204</td>\n",
       "      <td>0.925000</td>\n",
       "      <td>0.880952</td>\n",
       "      <td>0.902439</td>\n",
       "    </tr>\n",
       "  </tbody>\n",
       "</table>\n",
       "</div>"
      ],
      "text/plain": [
       "                            Name  Accuracy  Precision    Recall  F1_score\n",
       "0            Logistic Regression  0.920354   0.883721  0.904762  0.894118\n",
       "1                  Decision Tree  0.849558   0.820513  0.761905  0.790123\n",
       "2                Random Forest_1  0.938053   0.948718  0.880952  0.913580\n",
       "3                Random Forest_1  0.938053   0.948718  0.880952  0.913580\n",
       "4                        Xgboost  0.964602   0.975000  0.928571  0.951220\n",
       "5     Supper Vector Machine: rbf  0.938053   0.948718  0.880952  0.913580\n",
       "6  Supper Vector Machine: linear  0.929204   0.925000  0.880952  0.902439"
      ]
     },
     "execution_count": 40,
     "metadata": {},
     "output_type": "execute_result"
    }
   ],
   "source": [
    "\n",
    "\n",
    "best_model_dict_2 = {'Name':[],\n",
    "                     'Accuracy': [],\n",
    "                     'Precision': [],\n",
    "                     'Recall': [],\n",
    "                     'F1_score': []}\n",
    "\n",
    "# best lr\n",
    "accuracy, recall, precision, f1 = get_score(best_lr, X_test, y_test)\n",
    "add_to_dict(best_model_dict_2, 'Logistic Regression', accuracy, precision, recall, f1)\n",
    "\n",
    "# best dt\n",
    "accuracy, recall, precision, f1 = get_score(best_dt, X_test, y_test)\n",
    "add_to_dict(best_model_dict_2, 'Decision Tree', accuracy, precision, recall, f1)\n",
    "\n",
    "# best rf_1\n",
    "accuracy, recall, precision, f1 = get_score(best_rf_1, X_test, y_test)\n",
    "add_to_dict(best_model_dict_2, 'Random Forest_1', accuracy, precision, recall, f1)\n",
    "\n",
    "# best rf_2\n",
    "accuracy, recall, precision, f1 = get_score(best_rf_2, X_test, y_test)\n",
    "add_to_dict(best_model_dict_2, 'Random Forest_1', accuracy, precision, recall, f1)\n",
    "\n",
    "# best xgb\n",
    "accuracy, recall, precision, f1 = get_score(best_xgb, X_test, y_test)\n",
    "add_to_dict(best_model_dict_2, 'Xgboost', accuracy, precision, recall, f1)\n",
    "\n",
    "# best svm rbf\n",
    "accuracy, recall, precision, f1 = get_score(best_svm_rbf, X_test, y_test)\n",
    "add_to_dict(best_model_dict_2, 'Supper Vector Machine: rbf', accuracy, precision, recall, f1)\n",
    "\n",
    "# best svm linear\n",
    "accuracy, recall, precision, f1 = get_score(best_svm_linear, X_test, y_test)\n",
    "add_to_dict(best_model_dict_2, 'Supper Vector Machine: linear', accuracy, precision, recall, f1)\n",
    "\n",
    "results_2 = pd.DataFrame(best_model_dict_2)\n",
    "results_2\n",
    "\n",
    "#results_2.to_csv('result_augument_data_1.csv', index=False)"
   ]
  },
  {
   "cell_type": "markdown",
   "metadata": {},
   "source": [
    "## 2.3.1 Evaluation on outside test set"
   ]
  },
  {
   "cell_type": "code",
   "execution_count": 41,
   "metadata": {},
   "outputs": [
    {
     "data": {
      "text/html": [
       "<div>\n",
       "<style scoped>\n",
       "    .dataframe tbody tr th:only-of-type {\n",
       "        vertical-align: middle;\n",
       "    }\n",
       "\n",
       "    .dataframe tbody tr th {\n",
       "        vertical-align: top;\n",
       "    }\n",
       "\n",
       "    .dataframe thead th {\n",
       "        text-align: right;\n",
       "    }\n",
       "</style>\n",
       "<table border=\"1\" class=\"dataframe\">\n",
       "  <thead>\n",
       "    <tr style=\"text-align: right;\">\n",
       "      <th></th>\n",
       "      <th>Name</th>\n",
       "      <th>Accuracy</th>\n",
       "      <th>Precision</th>\n",
       "      <th>Recall</th>\n",
       "      <th>F1_score</th>\n",
       "    </tr>\n",
       "  </thead>\n",
       "  <tbody>\n",
       "    <tr>\n",
       "      <th>0</th>\n",
       "      <td>Logistic Regression</td>\n",
       "      <td>0.72375</td>\n",
       "      <td>0.681542</td>\n",
       "      <td>0.8400</td>\n",
       "      <td>0.752520</td>\n",
       "    </tr>\n",
       "    <tr>\n",
       "      <th>1</th>\n",
       "      <td>Decision Tree</td>\n",
       "      <td>0.65750</td>\n",
       "      <td>0.654412</td>\n",
       "      <td>0.6675</td>\n",
       "      <td>0.660891</td>\n",
       "    </tr>\n",
       "    <tr>\n",
       "      <th>2</th>\n",
       "      <td>Random Forest_1</td>\n",
       "      <td>0.73250</td>\n",
       "      <td>0.686000</td>\n",
       "      <td>0.8575</td>\n",
       "      <td>0.762222</td>\n",
       "    </tr>\n",
       "    <tr>\n",
       "      <th>3</th>\n",
       "      <td>Random Forest_2</td>\n",
       "      <td>0.73250</td>\n",
       "      <td>0.690574</td>\n",
       "      <td>0.8425</td>\n",
       "      <td>0.759009</td>\n",
       "    </tr>\n",
       "    <tr>\n",
       "      <th>4</th>\n",
       "      <td>Xgboost</td>\n",
       "      <td>0.72875</td>\n",
       "      <td>0.692632</td>\n",
       "      <td>0.8225</td>\n",
       "      <td>0.752000</td>\n",
       "    </tr>\n",
       "    <tr>\n",
       "      <th>5</th>\n",
       "      <td>Supper Vector Machine: rbf</td>\n",
       "      <td>0.72875</td>\n",
       "      <td>0.666667</td>\n",
       "      <td>0.9150</td>\n",
       "      <td>0.771338</td>\n",
       "    </tr>\n",
       "    <tr>\n",
       "      <th>6</th>\n",
       "      <td>Supper Vector Machine: linear</td>\n",
       "      <td>0.72375</td>\n",
       "      <td>0.668550</td>\n",
       "      <td>0.8875</td>\n",
       "      <td>0.762621</td>\n",
       "    </tr>\n",
       "  </tbody>\n",
       "</table>\n",
       "</div>"
      ],
      "text/plain": [
       "                            Name  Accuracy  Precision  Recall  F1_score\n",
       "0            Logistic Regression   0.72375   0.681542  0.8400  0.752520\n",
       "1                  Decision Tree   0.65750   0.654412  0.6675  0.660891\n",
       "2                Random Forest_1   0.73250   0.686000  0.8575  0.762222\n",
       "3                Random Forest_2   0.73250   0.690574  0.8425  0.759009\n",
       "4                        Xgboost   0.72875   0.692632  0.8225  0.752000\n",
       "5     Supper Vector Machine: rbf   0.72875   0.666667  0.9150  0.771338\n",
       "6  Supper Vector Machine: linear   0.72375   0.668550  0.8875  0.762621"
      ]
     },
     "execution_count": 41,
     "metadata": {},
     "output_type": "execute_result"
    }
   ],
   "source": [
    "best_model_dict_3 = {'Name':[],\n",
    "                     'Accuracy': [],\n",
    "                     'Precision': [],\n",
    "                     'Recall': [],\n",
    "                     'F1_score': []}\n",
    "\n",
    "# best lr\n",
    "accuracy, recall, precision, f1 = get_score(best_lr, X_test_out, y_test_out)\n",
    "add_to_dict(best_model_dict_3, 'Logistic Regression', accuracy, precision, recall, f1)\n",
    "\n",
    "# best dt\n",
    "accuracy, recall, precision, f1 = get_score(best_dt, X_test_out, y_test_out)\n",
    "add_to_dict(best_model_dict_3, 'Decision Tree', accuracy, precision, recall, f1)\n",
    "\n",
    "# best rf_1\n",
    "accuracy, recall, precision, f1 = get_score(best_rf_1, X_test_out, y_test_out)\n",
    "add_to_dict(best_model_dict_3, 'Random Forest_1', accuracy, precision, recall, f1)\n",
    "\n",
    "# best rf_2\n",
    "accuracy, recall, precision, f1 = get_score(best_rf_2, X_test_out, y_test_out)\n",
    "add_to_dict(best_model_dict_3, 'Random Forest_2', accuracy, precision, recall, f1)\n",
    "\n",
    "# best xgb\n",
    "accuracy, recall, precision, f1 = get_score(best_xgb, X_test_out, y_test_out)\n",
    "add_to_dict(best_model_dict_3, 'Xgboost', accuracy, precision, recall, f1)\n",
    "\n",
    "# best svm rbf\n",
    "accuracy, recall, precision, f1 = get_score(best_svm_rbf, X_test_out, y_test_out)\n",
    "add_to_dict(best_model_dict_3, 'Supper Vector Machine: rbf', accuracy, precision, recall, f1)\n",
    "\n",
    "# best svm linear\n",
    "accuracy, recall, precision, f1 = get_score(best_svm_linear, X_test_out, y_test_out)\n",
    "add_to_dict(best_model_dict_3, 'Supper Vector Machine: linear', accuracy, precision, recall, f1)\n",
    "\n",
    "results_3 = pd.DataFrame(best_model_dict_3)\n",
    "results_3\n",
    "\n",
    "# results_3.to_csv('result_outside_test_data.csv', index=False)"
   ]
  },
  {
   "cell_type": "markdown",
   "metadata": {},
   "source": [
    "Random Forest_1 and super vector machine rbf model were chosen since they performance better on both inside and outside test data."
   ]
  },
  {
   "cell_type": "code",
   "execution_count": 42,
   "metadata": {},
   "outputs": [],
   "source": [
    "import tensorflow as tf\n",
    "def print_confusion_matrix(y_actual,preds=None,probabilities=None,title=\"\",pred_proba=0.5):\n",
    "    if probabilities is not None:\n",
    "        preds=[(prob>pred_proba).astype(int) for prob in probabilities]\n",
    "    conf_mat=tf.math.confusion_matrix(y_actual, preds)\n",
    "    true_negatives = conf_mat[0, 0]\n",
    "    false_positives = conf_mat[0, 1]\n",
    "    false_negatives = conf_mat[1, 0]\n",
    "    true_positives = conf_mat[1, 1]\n",
    "    print(f'\\nConfusion Matrix {title}')\n",
    "    print(f\"\\tTrue Negatives: {true_negatives}\\n\\tFalse Positives: {false_positives}\\n\\tFalse Negatives: {false_negatives}\\n\\tTrue Positive: {true_positives}\")"
   ]
  },
  {
   "cell_type": "markdown",
   "metadata": {},
   "source": [
    "# 2.4 Baseline Neural Network"
   ]
  },
  {
   "cell_type": "code",
   "execution_count": 43,
   "metadata": {},
   "outputs": [],
   "source": [
    "from tensorflow.keras.models import Sequential\n",
    "from tensorflow.keras.layers import Dense\n",
    "import tensorflow as tf\n",
    "model_nn = Sequential([\n",
    "  Dense(units=64, activation='relu'),  # Input layer with feature size\n",
    "  Dense(units=32, activation='relu'),\n",
    "  Dense(units=1, activation='sigmoid')])"
   ]
  },
  {
   "cell_type": "code",
   "execution_count": 44,
   "metadata": {},
   "outputs": [
    {
     "name": "stdout",
     "output_type": "stream",
     "text": [
      "Epoch 1/15\n",
      "\u001b[1m6/6\u001b[0m \u001b[32m━━━━━━━━━━━━━━━━━━━━\u001b[0m\u001b[37m\u001b[0m \u001b[1m1s\u001b[0m 135ms/step - accuracy: 0.6522 - loss: 5.0007 - recall: 0.2548 - val_accuracy: 0.6985 - val_loss: 4.1900 - val_recall: 0.0000e+00\n",
      "Epoch 2/15\n",
      "\u001b[1m6/6\u001b[0m \u001b[32m━━━━━━━━━━━━━━━━━━━━\u001b[0m\u001b[37m\u001b[0m \u001b[1m0s\u001b[0m 24ms/step - accuracy: 0.6376 - loss: 3.0982 - recall: 0.2060 - val_accuracy: 0.6985 - val_loss: 1.4717 - val_recall: 0.0000e+00\n",
      "Epoch 3/15\n",
      "\u001b[1m6/6\u001b[0m \u001b[32m━━━━━━━━━━━━━━━━━━━━\u001b[0m\u001b[37m\u001b[0m \u001b[1m0s\u001b[0m 24ms/step - accuracy: 0.6872 - loss: 1.1669 - recall: 0.2346 - val_accuracy: 0.6985 - val_loss: 0.6488 - val_recall: 0.0000e+00\n",
      "Epoch 4/15\n",
      "\u001b[1m6/6\u001b[0m \u001b[32m━━━━━━━━━━━━━━━━━━━━\u001b[0m\u001b[37m\u001b[0m \u001b[1m0s\u001b[0m 24ms/step - accuracy: 0.7373 - loss: 0.5925 - recall: 0.2807 - val_accuracy: 0.8162 - val_loss: 0.3378 - val_recall: 0.4634\n",
      "Epoch 5/15\n",
      "\u001b[1m6/6\u001b[0m \u001b[32m━━━━━━━━━━━━━━━━━━━━\u001b[0m\u001b[37m\u001b[0m \u001b[1m0s\u001b[0m 24ms/step - accuracy: 0.8270 - loss: 0.3740 - recall: 0.5332 - val_accuracy: 0.8971 - val_loss: 0.2659 - val_recall: 0.8049\n",
      "Epoch 6/15\n",
      "\u001b[1m6/6\u001b[0m \u001b[32m━━━━━━━━━━━━━━━━━━━━\u001b[0m\u001b[37m\u001b[0m \u001b[1m0s\u001b[0m 23ms/step - accuracy: 0.8806 - loss: 0.2877 - recall: 0.7386 - val_accuracy: 0.9265 - val_loss: 0.2549 - val_recall: 0.9268\n",
      "Epoch 7/15\n",
      "\u001b[1m6/6\u001b[0m \u001b[32m━━━━━━━━━━━━━━━━━━━━\u001b[0m\u001b[37m\u001b[0m \u001b[1m0s\u001b[0m 24ms/step - accuracy: 0.9076 - loss: 0.2483 - recall: 0.8328 - val_accuracy: 0.9191 - val_loss: 0.2423 - val_recall: 0.9024\n",
      "Epoch 8/15\n",
      "\u001b[1m6/6\u001b[0m \u001b[32m━━━━━━━━━━━━━━━━━━━━\u001b[0m\u001b[37m\u001b[0m \u001b[1m0s\u001b[0m 24ms/step - accuracy: 0.9048 - loss: 0.2267 - recall: 0.8612 - val_accuracy: 0.9191 - val_loss: 0.2271 - val_recall: 0.9024\n",
      "Epoch 9/15\n",
      "\u001b[1m6/6\u001b[0m \u001b[32m━━━━━━━━━━━━━━━━━━━━\u001b[0m\u001b[37m\u001b[0m \u001b[1m0s\u001b[0m 24ms/step - accuracy: 0.9096 - loss: 0.2166 - recall: 0.8746 - val_accuracy: 0.9265 - val_loss: 0.2164 - val_recall: 0.9024\n"
     ]
    },
    {
     "data": {
      "text/plain": [
       "<keras.src.callbacks.history.History at 0x2a5782d40>"
      ]
     },
     "execution_count": 44,
     "metadata": {},
     "output_type": "execute_result"
    }
   ],
   "source": [
    "from tensorflow.keras import optimizers\n",
    "from tensorflow.keras.losses import CategoricalCrossentropy\n",
    "from tensorflow.keras.callbacks import EarlyStopping\n",
    "\n",
    "# Compile the model\n",
    "model_nn.compile(loss='binary_crossentropy',\n",
    "              optimizer=optimizers.Adam(learning_rate=0.001),\n",
    "              metrics=['accuracy','recall'])\n",
    "early_stopping = EarlyStopping(monitor='val_accuracy', patience=3)\n",
    "model_nn.fit(X_train, y_train, epochs=15, batch_size=128, validation_split = 0.15,callbacks=[early_stopping])"
   ]
  },
  {
   "cell_type": "code",
   "execution_count": 45,
   "metadata": {},
   "outputs": [
    {
     "name": "stdout",
     "output_type": "stream",
     "text": [
      "\u001b[1m4/4\u001b[0m \u001b[32m━━━━━━━━━━━━━━━━━━━━\u001b[0m\u001b[37m\u001b[0m \u001b[1m0s\u001b[0m 8ms/step \n",
      "\u001b[1m4/4\u001b[0m \u001b[32m━━━━━━━━━━━━━━━━━━━━\u001b[0m\u001b[37m\u001b[0m \u001b[1m0s\u001b[0m 3ms/step - accuracy: 0.8992 - loss: 0.2562 - recall: 0.9223 \n",
      "Neural Network Test Accuracy 0.8938053250312805\n",
      "Neural Network Test Recall 0.8809523582458496\n"
     ]
    }
   ],
   "source": [
    "pred_probs=model_nn.predict(X_test) #Obtain probabilities for each test image\n",
    "# test_loss, test_accuracy,test_recall = model_nn.evaluate(X_test_scaled, y_test)\n",
    "test_loss, test_accuracy,test_recall = model_nn.evaluate(X_test, y_test)\n",
    "print(\"Neural Network Test Accuracy\", test_accuracy)\n",
    "print(\"Neural Network Test Recall\",test_recall)\n"
   ]
  },
  {
   "cell_type": "code",
   "execution_count": 46,
   "metadata": {},
   "outputs": [
    {
     "name": "stdout",
     "output_type": "stream",
     "text": [
      "\n",
      "Confusion Matrix Neural Network\n",
      "\tTrue Negatives: 64\n",
      "\tFalse Positives: 7\n",
      "\tFalse Negatives: 5\n",
      "\tTrue Positive: 37\n"
     ]
    }
   ],
   "source": [
    "print_confusion_matrix(y_test, probabilities=pred_probs.reshape(-1,), title='Neural Network')"
   ]
  },
  {
   "cell_type": "markdown",
   "metadata": {},
   "source": [
    "## 2.5 Tuned Neural Network"
   ]
  },
  {
   "cell_type": "markdown",
   "metadata": {},
   "source": [
    "## 2.5.1 Model trainning"
   ]
  },
  {
   "cell_type": "code",
   "execution_count": 47,
   "metadata": {},
   "outputs": [],
   "source": [
    "X_train_removed_array = X_train.to_numpy()\n",
    "X_train_3D = X_train_removed_array.reshape(X_train.shape[0],256,256)\n",
    "X_test_removed_array = X_test.to_numpy()\n",
    "X_test_3D = X_test_removed_array.reshape(X_test.shape[0],256,256)"
   ]
  },
  {
   "cell_type": "code",
   "execution_count": 48,
   "metadata": {},
   "outputs": [],
   "source": [
    "#Create callback to save the weights after each epoch\n",
    "class customCallback(callbacks.Callback):\n",
    "  def on_train_begin(self,logs=None):\n",
    "    self.model.all_weights = []\n",
    "  def on_epoch_end(self,epoch,logs=None):\n",
    "    self.weight_list = []\n",
    "    for layer in self.model.layers:\n",
    "      if layer.get_weights() == []:\n",
    "        self.weight_list += [np.nan]\n",
    "      else:\n",
    "        self.weight_list += [np.mean(layer.get_weights()[0])]\n",
    "    self.model.all_weights += [self.weight_list]"
   ]
  },
  {
   "cell_type": "code",
   "execution_count": 49,
   "metadata": {},
   "outputs": [],
   "source": [
    "from keras import layers, models, utils\n",
    "@utils.register_keras_serializable(package=\"my_package\", name=\"add_layer\")\n",
    "# @keras.utils.register_keras_serializable(package=\"my_package\", name=\"add_layer\")\n",
    "def add_layer(model,num_layer,neurons):\n",
    "  for i in range(num_layer):\n",
    "    model.add(Dense(neurons,activation='relu'))"
   ]
  },
  {
   "cell_type": "code",
   "execution_count": 50,
   "metadata": {},
   "outputs": [],
   "source": [
    "@utils.register_keras_serializable(package=\"my_package\", name=\"add_layer_lr\")\n",
    "#@keras.utils.register_keras_serializable(package=\"my_package\", name=\"add_layer_lr\")\n",
    "def add_layer_lr(model,num_layer,neurons,slope):\n",
    "  act = tf.keras.layers.LeakyReLU(negative_slope=slope)\n",
    "  for i in range(num_layer):\n",
    "    model.add(Dense(neurons,activation=act))"
   ]
  },
  {
   "cell_type": "code",
   "execution_count": 51,
   "metadata": {},
   "outputs": [],
   "source": [
    "#!pip install --upgrade tensorflow keras\n"
   ]
  },
  {
   "cell_type": "code",
   "execution_count": 52,
   "metadata": {},
   "outputs": [
    {
     "name": "stderr",
     "output_type": "stream",
     "text": [
      "/Library/Frameworks/Python.framework/Versions/3.10/lib/python3.10/site-packages/keras/src/layers/convolutional/base_conv.py:107: UserWarning: Do not pass an `input_shape`/`input_dim` argument to a layer. When using Sequential models, prefer using an `Input(shape)` object as the first layer in the model instead.\n",
      "  super().__init__(activity_regularizer=activity_regularizer, **kwargs)\n"
     ]
    },
    {
     "data": {
      "text/html": [
       "<pre style=\"white-space:pre;overflow-x:auto;line-height:normal;font-family:Menlo,'DejaVu Sans Mono',consolas,'Courier New',monospace\"><span style=\"font-weight: bold\">Model: \"sequential_1\"</span>\n",
       "</pre>\n"
      ],
      "text/plain": [
       "\u001b[1mModel: \"sequential_1\"\u001b[0m\n"
      ]
     },
     "metadata": {},
     "output_type": "display_data"
    },
    {
     "data": {
      "text/html": [
       "<pre style=\"white-space:pre;overflow-x:auto;line-height:normal;font-family:Menlo,'DejaVu Sans Mono',consolas,'Courier New',monospace\">┏━━━━━━━━━━━━━━━━━━━━━━━━━━━━━━━━━┳━━━━━━━━━━━━━━━━━━━━━━━━┳━━━━━━━━━━━━━━━┓\n",
       "┃<span style=\"font-weight: bold\"> Layer (type)                    </span>┃<span style=\"font-weight: bold\"> Output Shape           </span>┃<span style=\"font-weight: bold\">       Param # </span>┃\n",
       "┡━━━━━━━━━━━━━━━━━━━━━━━━━━━━━━━━━╇━━━━━━━━━━━━━━━━━━━━━━━━╇━━━━━━━━━━━━━━━┩\n",
       "│ conv2d (<span style=\"color: #0087ff; text-decoration-color: #0087ff\">Conv2D</span>)                 │ (<span style=\"color: #00d7ff; text-decoration-color: #00d7ff\">None</span>, <span style=\"color: #00af00; text-decoration-color: #00af00\">252</span>, <span style=\"color: #00af00; text-decoration-color: #00af00\">252</span>, <span style=\"color: #00af00; text-decoration-color: #00af00\">100</span>)  │         <span style=\"color: #00af00; text-decoration-color: #00af00\">2,600</span> │\n",
       "├─────────────────────────────────┼────────────────────────┼───────────────┤\n",
       "│ max_pooling2d (<span style=\"color: #0087ff; text-decoration-color: #0087ff\">MaxPooling2D</span>)    │ (<span style=\"color: #00d7ff; text-decoration-color: #00d7ff\">None</span>, <span style=\"color: #00af00; text-decoration-color: #00af00\">126</span>, <span style=\"color: #00af00; text-decoration-color: #00af00\">126</span>, <span style=\"color: #00af00; text-decoration-color: #00af00\">100</span>)  │             <span style=\"color: #00af00; text-decoration-color: #00af00\">0</span> │\n",
       "├─────────────────────────────────┼────────────────────────┼───────────────┤\n",
       "│ flatten (<span style=\"color: #0087ff; text-decoration-color: #0087ff\">Flatten</span>)               │ (<span style=\"color: #00d7ff; text-decoration-color: #00d7ff\">None</span>, <span style=\"color: #00af00; text-decoration-color: #00af00\">1587600</span>)        │             <span style=\"color: #00af00; text-decoration-color: #00af00\">0</span> │\n",
       "├─────────────────────────────────┼────────────────────────┼───────────────┤\n",
       "│ dense_3 (<span style=\"color: #0087ff; text-decoration-color: #0087ff\">Dense</span>)                 │ (<span style=\"color: #00d7ff; text-decoration-color: #00d7ff\">None</span>, <span style=\"color: #00af00; text-decoration-color: #00af00\">128</span>)            │   <span style=\"color: #00af00; text-decoration-color: #00af00\">203,212,928</span> │\n",
       "├─────────────────────────────────┼────────────────────────┼───────────────┤\n",
       "│ dense_4 (<span style=\"color: #0087ff; text-decoration-color: #0087ff\">Dense</span>)                 │ (<span style=\"color: #00d7ff; text-decoration-color: #00d7ff\">None</span>, <span style=\"color: #00af00; text-decoration-color: #00af00\">128</span>)            │        <span style=\"color: #00af00; text-decoration-color: #00af00\">16,512</span> │\n",
       "├─────────────────────────────────┼────────────────────────┼───────────────┤\n",
       "│ dense_5 (<span style=\"color: #0087ff; text-decoration-color: #0087ff\">Dense</span>)                 │ (<span style=\"color: #00d7ff; text-decoration-color: #00d7ff\">None</span>, <span style=\"color: #00af00; text-decoration-color: #00af00\">128</span>)            │        <span style=\"color: #00af00; text-decoration-color: #00af00\">16,512</span> │\n",
       "├─────────────────────────────────┼────────────────────────┼───────────────┤\n",
       "│ dense_6 (<span style=\"color: #0087ff; text-decoration-color: #0087ff\">Dense</span>)                 │ (<span style=\"color: #00d7ff; text-decoration-color: #00d7ff\">None</span>, <span style=\"color: #00af00; text-decoration-color: #00af00\">128</span>)            │        <span style=\"color: #00af00; text-decoration-color: #00af00\">16,512</span> │\n",
       "├─────────────────────────────────┼────────────────────────┼───────────────┤\n",
       "│ dense_7 (<span style=\"color: #0087ff; text-decoration-color: #0087ff\">Dense</span>)                 │ (<span style=\"color: #00d7ff; text-decoration-color: #00d7ff\">None</span>, <span style=\"color: #00af00; text-decoration-color: #00af00\">128</span>)            │        <span style=\"color: #00af00; text-decoration-color: #00af00\">16,512</span> │\n",
       "├─────────────────────────────────┼────────────────────────┼───────────────┤\n",
       "│ dense_8 (<span style=\"color: #0087ff; text-decoration-color: #0087ff\">Dense</span>)                 │ (<span style=\"color: #00d7ff; text-decoration-color: #00d7ff\">None</span>, <span style=\"color: #00af00; text-decoration-color: #00af00\">128</span>)            │        <span style=\"color: #00af00; text-decoration-color: #00af00\">16,512</span> │\n",
       "├─────────────────────────────────┼────────────────────────┼───────────────┤\n",
       "│ dense_9 (<span style=\"color: #0087ff; text-decoration-color: #0087ff\">Dense</span>)                 │ (<span style=\"color: #00d7ff; text-decoration-color: #00d7ff\">None</span>, <span style=\"color: #00af00; text-decoration-color: #00af00\">64</span>)             │         <span style=\"color: #00af00; text-decoration-color: #00af00\">8,256</span> │\n",
       "├─────────────────────────────────┼────────────────────────┼───────────────┤\n",
       "│ dense_10 (<span style=\"color: #0087ff; text-decoration-color: #0087ff\">Dense</span>)                │ (<span style=\"color: #00d7ff; text-decoration-color: #00d7ff\">None</span>, <span style=\"color: #00af00; text-decoration-color: #00af00\">32</span>)             │         <span style=\"color: #00af00; text-decoration-color: #00af00\">2,080</span> │\n",
       "├─────────────────────────────────┼────────────────────────┼───────────────┤\n",
       "│ dense_11 (<span style=\"color: #0087ff; text-decoration-color: #0087ff\">Dense</span>)                │ (<span style=\"color: #00d7ff; text-decoration-color: #00d7ff\">None</span>, <span style=\"color: #00af00; text-decoration-color: #00af00\">1</span>)              │            <span style=\"color: #00af00; text-decoration-color: #00af00\">33</span> │\n",
       "└─────────────────────────────────┴────────────────────────┴───────────────┘\n",
       "</pre>\n"
      ],
      "text/plain": [
       "┏━━━━━━━━━━━━━━━━━━━━━━━━━━━━━━━━━┳━━━━━━━━━━━━━━━━━━━━━━━━┳━━━━━━━━━━━━━━━┓\n",
       "┃\u001b[1m \u001b[0m\u001b[1mLayer (type)                   \u001b[0m\u001b[1m \u001b[0m┃\u001b[1m \u001b[0m\u001b[1mOutput Shape          \u001b[0m\u001b[1m \u001b[0m┃\u001b[1m \u001b[0m\u001b[1m      Param #\u001b[0m\u001b[1m \u001b[0m┃\n",
       "┡━━━━━━━━━━━━━━━━━━━━━━━━━━━━━━━━━╇━━━━━━━━━━━━━━━━━━━━━━━━╇━━━━━━━━━━━━━━━┩\n",
       "│ conv2d (\u001b[38;5;33mConv2D\u001b[0m)                 │ (\u001b[38;5;45mNone\u001b[0m, \u001b[38;5;34m252\u001b[0m, \u001b[38;5;34m252\u001b[0m, \u001b[38;5;34m100\u001b[0m)  │         \u001b[38;5;34m2,600\u001b[0m │\n",
       "├─────────────────────────────────┼────────────────────────┼───────────────┤\n",
       "│ max_pooling2d (\u001b[38;5;33mMaxPooling2D\u001b[0m)    │ (\u001b[38;5;45mNone\u001b[0m, \u001b[38;5;34m126\u001b[0m, \u001b[38;5;34m126\u001b[0m, \u001b[38;5;34m100\u001b[0m)  │             \u001b[38;5;34m0\u001b[0m │\n",
       "├─────────────────────────────────┼────────────────────────┼───────────────┤\n",
       "│ flatten (\u001b[38;5;33mFlatten\u001b[0m)               │ (\u001b[38;5;45mNone\u001b[0m, \u001b[38;5;34m1587600\u001b[0m)        │             \u001b[38;5;34m0\u001b[0m │\n",
       "├─────────────────────────────────┼────────────────────────┼───────────────┤\n",
       "│ dense_3 (\u001b[38;5;33mDense\u001b[0m)                 │ (\u001b[38;5;45mNone\u001b[0m, \u001b[38;5;34m128\u001b[0m)            │   \u001b[38;5;34m203,212,928\u001b[0m │\n",
       "├─────────────────────────────────┼────────────────────────┼───────────────┤\n",
       "│ dense_4 (\u001b[38;5;33mDense\u001b[0m)                 │ (\u001b[38;5;45mNone\u001b[0m, \u001b[38;5;34m128\u001b[0m)            │        \u001b[38;5;34m16,512\u001b[0m │\n",
       "├─────────────────────────────────┼────────────────────────┼───────────────┤\n",
       "│ dense_5 (\u001b[38;5;33mDense\u001b[0m)                 │ (\u001b[38;5;45mNone\u001b[0m, \u001b[38;5;34m128\u001b[0m)            │        \u001b[38;5;34m16,512\u001b[0m │\n",
       "├─────────────────────────────────┼────────────────────────┼───────────────┤\n",
       "│ dense_6 (\u001b[38;5;33mDense\u001b[0m)                 │ (\u001b[38;5;45mNone\u001b[0m, \u001b[38;5;34m128\u001b[0m)            │        \u001b[38;5;34m16,512\u001b[0m │\n",
       "├─────────────────────────────────┼────────────────────────┼───────────────┤\n",
       "│ dense_7 (\u001b[38;5;33mDense\u001b[0m)                 │ (\u001b[38;5;45mNone\u001b[0m, \u001b[38;5;34m128\u001b[0m)            │        \u001b[38;5;34m16,512\u001b[0m │\n",
       "├─────────────────────────────────┼────────────────────────┼───────────────┤\n",
       "│ dense_8 (\u001b[38;5;33mDense\u001b[0m)                 │ (\u001b[38;5;45mNone\u001b[0m, \u001b[38;5;34m128\u001b[0m)            │        \u001b[38;5;34m16,512\u001b[0m │\n",
       "├─────────────────────────────────┼────────────────────────┼───────────────┤\n",
       "│ dense_9 (\u001b[38;5;33mDense\u001b[0m)                 │ (\u001b[38;5;45mNone\u001b[0m, \u001b[38;5;34m64\u001b[0m)             │         \u001b[38;5;34m8,256\u001b[0m │\n",
       "├─────────────────────────────────┼────────────────────────┼───────────────┤\n",
       "│ dense_10 (\u001b[38;5;33mDense\u001b[0m)                │ (\u001b[38;5;45mNone\u001b[0m, \u001b[38;5;34m32\u001b[0m)             │         \u001b[38;5;34m2,080\u001b[0m │\n",
       "├─────────────────────────────────┼────────────────────────┼───────────────┤\n",
       "│ dense_11 (\u001b[38;5;33mDense\u001b[0m)                │ (\u001b[38;5;45mNone\u001b[0m, \u001b[38;5;34m1\u001b[0m)              │            \u001b[38;5;34m33\u001b[0m │\n",
       "└─────────────────────────────────┴────────────────────────┴───────────────┘\n"
      ]
     },
     "metadata": {},
     "output_type": "display_data"
    },
    {
     "data": {
      "text/html": [
       "<pre style=\"white-space:pre;overflow-x:auto;line-height:normal;font-family:Menlo,'DejaVu Sans Mono',consolas,'Courier New',monospace\"><span style=\"font-weight: bold\"> Total params: </span><span style=\"color: #00af00; text-decoration-color: #00af00\">203,308,457</span> (775.56 MB)\n",
       "</pre>\n"
      ],
      "text/plain": [
       "\u001b[1m Total params: \u001b[0m\u001b[38;5;34m203,308,457\u001b[0m (775.56 MB)\n"
      ]
     },
     "metadata": {},
     "output_type": "display_data"
    },
    {
     "data": {
      "text/html": [
       "<pre style=\"white-space:pre;overflow-x:auto;line-height:normal;font-family:Menlo,'DejaVu Sans Mono',consolas,'Courier New',monospace\"><span style=\"font-weight: bold\"> Trainable params: </span><span style=\"color: #00af00; text-decoration-color: #00af00\">203,308,457</span> (775.56 MB)\n",
       "</pre>\n"
      ],
      "text/plain": [
       "\u001b[1m Trainable params: \u001b[0m\u001b[38;5;34m203,308,457\u001b[0m (775.56 MB)\n"
      ]
     },
     "metadata": {},
     "output_type": "display_data"
    },
    {
     "data": {
      "text/html": [
       "<pre style=\"white-space:pre;overflow-x:auto;line-height:normal;font-family:Menlo,'DejaVu Sans Mono',consolas,'Courier New',monospace\"><span style=\"font-weight: bold\"> Non-trainable params: </span><span style=\"color: #00af00; text-decoration-color: #00af00\">0</span> (0.00 B)\n",
       "</pre>\n"
      ],
      "text/plain": [
       "\u001b[1m Non-trainable params: \u001b[0m\u001b[38;5;34m0\u001b[0m (0.00 B)\n"
      ]
     },
     "metadata": {},
     "output_type": "display_data"
    }
   ],
   "source": [
    "def create_nn_5_128(input_shape):\n",
    "    model = Sequential() # Creates instance of Sequential model, model for NN where layers are added up in sequence (One input tensor and one output tensor)\n",
    "    model.add(Conv2D(filters=100, kernel_size=5, activation='relu', input_shape=input_shape)) # 1D convolutional layer to model, 64 neurons, each filter extracts different features from input data\n",
    "    # Kernel size 3, each filter covers 3 units in the input dimension. Relu, allows the model to capture non-linear relationships\n",
    "    model.add(MaxPooling2D(pool_size=2)) # Layer reduces the dimensionality of the data by taking the max value over a window of 2 units along each feature dimension\n",
    "    # Makes the model more efficient and less sensitive to small variation in the position of features\n",
    "    model.add(Flatten()) # Adds flatten layer, converts multidimensional output of previous layers into a 1D array for fully connected layer\n",
    "    model.add(Dense(128, activation='relu')) # Adds dense layer (fully connected), 50 neurons and again uses relu activation\n",
    "    add_layer(model,5,128)\n",
    "    model.add(Dense(64, activation='relu')) # Adds dense layer (fully connected), 50 neurons and again uses relu activation\n",
    "    model.add(Dense(32, activation='relu')) # Adds dense layer (fully connected), 50 neurons and again uses relu activation\n",
    "    model.add(Dense(1, activation='sigmoid'))  # Adds another dense layer, 1 unit for output layer, single neuron whose task is regression. Activation is linear for regression\n",
    "    opt = tf.keras.optimizers.Adam(learning_rate=0.005, beta_1=0.999, beta_2=0.999)\n",
    "    f1_score = tf.keras.metrics.F1Score(threshold=0.5)\n",
    "    precision = tf.keras.metrics.Precision(thresholds=0.5)\n",
    "    recall = tf.keras.metrics.Recall(thresholds=0.5)\n",
    "    model.compile(optimizer=opt, loss=BinaryCrossentropy(), metrics=['accuracy',f1_score,precision,recall]) # Compiles the model, uses Adam optimizer which combines the advantages of Adaptive Gradient Algorithm and Root Mean Square Propagation\n",
    "    # Uses MSE as loss function, typical for regression task\n",
    "    return model\n",
    "\n",
    "input_shape = (256,256,1)  # 12 features, 1 row per input\n",
    "nn_model_5_128 = create_nn_5_128(input_shape)\n",
    "nn_model_5_128.summary()"
   ]
  },
  {
   "cell_type": "code",
   "execution_count": 53,
   "metadata": {},
   "outputs": [
    {
     "name": "stdout",
     "output_type": "stream",
     "text": [
      "Epoch 1/15\n",
      "\u001b[1m24/24\u001b[0m \u001b[32m━━━━━━━━━━━━━━━━━━━━\u001b[0m\u001b[37m\u001b[0m \u001b[1m100s\u001b[0m 4s/step - accuracy: 0.5742 - f1_score: 0.2830 - loss: 6.1115 - precision: 0.3050 - recall_1: 0.3180 - val_accuracy: 0.6985 - val_f1_score: 0.0000e+00 - val_loss: 0.4709 - val_precision: 0.0000e+00 - val_recall_1: 0.0000e+00\n",
      "Epoch 2/15\n",
      "\u001b[1m24/24\u001b[0m \u001b[32m━━━━━━━━━━━━━━━━━━━━\u001b[0m\u001b[37m\u001b[0m \u001b[1m95s\u001b[0m 4s/step - accuracy: 0.7027 - f1_score: 0.0000e+00 - loss: 0.4320 - precision: 0.0000e+00 - recall_1: 0.0000e+00 - val_accuracy: 0.6985 - val_f1_score: 0.0000e+00 - val_loss: 0.3580 - val_precision: 0.0000e+00 - val_recall_1: 0.0000e+00\n",
      "Epoch 3/15\n",
      "\u001b[1m24/24\u001b[0m \u001b[32m━━━━━━━━━━━━━━━━━━━━\u001b[0m\u001b[37m\u001b[0m \u001b[1m94s\u001b[0m 4s/step - accuracy: 0.7731 - f1_score: 0.4206 - loss: 0.3272 - precision: 0.6565 - recall_1: 0.3525 - val_accuracy: 0.8750 - val_f1_score: 0.8247 - val_loss: 0.3441 - val_precision: 0.7143 - val_recall_1: 0.9756\n",
      "Epoch 4/15\n",
      "\u001b[1m24/24\u001b[0m \u001b[32m━━━━━━━━━━━━━━━━━━━━\u001b[0m\u001b[37m\u001b[0m \u001b[1m103s\u001b[0m 4s/step - accuracy: 0.9187 - f1_score: 0.8760 - loss: 0.2191 - precision: 0.8046 - recall_1: 0.9634 - val_accuracy: 0.9191 - val_f1_score: 0.8736 - val_loss: 0.2253 - val_precision: 0.8261 - val_recall_1: 0.9268\n",
      "Epoch 5/15\n",
      "\u001b[1m24/24\u001b[0m \u001b[32m━━━━━━━━━━━━━━━━━━━━\u001b[0m\u001b[37m\u001b[0m \u001b[1m101s\u001b[0m 4s/step - accuracy: 0.9201 - f1_score: 0.8774 - loss: 0.1977 - precision: 0.8078 - recall_1: 0.9618 - val_accuracy: 0.9191 - val_f1_score: 0.8764 - val_loss: 0.2238 - val_precision: 0.8125 - val_recall_1: 0.9512\n",
      "Epoch 6/15\n",
      "\u001b[1m24/24\u001b[0m \u001b[32m━━━━━━━━━━━━━━━━━━━━\u001b[0m\u001b[37m\u001b[0m \u001b[1m98s\u001b[0m 4s/step - accuracy: 0.9385 - f1_score: 0.9039 - loss: 0.1583 - precision: 0.8436 - recall_1: 0.9745 - val_accuracy: 0.9338 - val_f1_score: 0.8941 - val_loss: 0.1535 - val_precision: 0.8636 - val_recall_1: 0.9268\n",
      "Epoch 7/15\n",
      "\u001b[1m24/24\u001b[0m \u001b[32m━━━━━━━━━━━━━━━━━━━━\u001b[0m\u001b[37m\u001b[0m \u001b[1m141s\u001b[0m 6s/step - accuracy: 0.9369 - f1_score: 0.8980 - loss: 0.1381 - precision: 0.8764 - recall_1: 0.9243 - val_accuracy: 0.9338 - val_f1_score: 0.8966 - val_loss: 0.1463 - val_precision: 0.8478 - val_recall_1: 0.9512\n",
      "Epoch 8/15\n",
      "\u001b[1m24/24\u001b[0m \u001b[32m━━━━━━━━━━━━━━━━━━━━\u001b[0m\u001b[37m\u001b[0m \u001b[1m1371s\u001b[0m 59s/step - accuracy: 0.9596 - f1_score: 0.9340 - loss: 0.0973 - precision: 0.9082 - recall_1: 0.9615 - val_accuracy: 0.9191 - val_f1_score: 0.8608 - val_loss: 0.2064 - val_precision: 0.8947 - val_recall_1: 0.8293\n",
      "Epoch 9/15\n",
      "\u001b[1m24/24\u001b[0m \u001b[32m━━━━━━━━━━━━━━━━━━━━\u001b[0m\u001b[37m\u001b[0m \u001b[1m94s\u001b[0m 4s/step - accuracy: 0.9715 - f1_score: 0.9529 - loss: 0.0816 - precision: 0.9459 - recall_1: 0.9610 - val_accuracy: 0.9412 - val_f1_score: 0.9048 - val_loss: 0.2277 - val_precision: 0.8837 - val_recall_1: 0.9268\n",
      "Epoch 10/15\n",
      "\u001b[1m24/24\u001b[0m \u001b[32m━━━━━━━━━━━━━━━━━━━━\u001b[0m\u001b[37m\u001b[0m \u001b[1m92s\u001b[0m 4s/step - accuracy: 0.9749 - f1_score: 0.9584 - loss: 0.0639 - precision: 0.9503 - recall_1: 0.9671 - val_accuracy: 0.9191 - val_f1_score: 0.8642 - val_loss: 0.2322 - val_precision: 0.8750 - val_recall_1: 0.8537\n",
      "Epoch 11/15\n",
      "\u001b[1m24/24\u001b[0m \u001b[32m━━━━━━━━━━━━━━━━━━━━\u001b[0m\u001b[37m\u001b[0m \u001b[1m95s\u001b[0m 4s/step - accuracy: 0.9788 - f1_score: 0.9646 - loss: 0.0565 - precision: 0.9638 - recall_1: 0.9657 - val_accuracy: 0.9265 - val_f1_score: 0.8837 - val_loss: 0.2405 - val_precision: 0.8444 - val_recall_1: 0.9268\n",
      "Epoch 12/15\n",
      "\u001b[1m24/24\u001b[0m \u001b[32m━━━━━━━━━━━━━━━━━━━━\u001b[0m\u001b[37m\u001b[0m \u001b[1m105s\u001b[0m 4s/step - accuracy: 0.9793 - f1_score: 0.9661 - loss: 0.0446 - precision: 0.9449 - recall_1: 0.9885 - val_accuracy: 0.9338 - val_f1_score: 0.8966 - val_loss: 0.3050 - val_precision: 0.8478 - val_recall_1: 0.9512\n",
      "Epoch 13/15\n",
      "\u001b[1m24/24\u001b[0m \u001b[32m━━━━━━━━━━━━━━━━━━━━\u001b[0m\u001b[37m\u001b[0m \u001b[1m96s\u001b[0m 4s/step - accuracy: 0.9891 - f1_score: 0.9820 - loss: 0.0306 - precision: 0.9761 - recall_1: 0.9880 - val_accuracy: 0.9265 - val_f1_score: 0.8837 - val_loss: 0.2529 - val_precision: 0.8444 - val_recall_1: 0.9268\n",
      "Epoch 14/15\n",
      "\u001b[1m24/24\u001b[0m \u001b[32m━━━━━━━━━━━━━━━━━━━━\u001b[0m\u001b[37m\u001b[0m \u001b[1m98s\u001b[0m 4s/step - accuracy: 0.9862 - f1_score: 0.9764 - loss: 0.0285 - precision: 0.9853 - recall_1: 0.9680 - val_accuracy: 0.9338 - val_f1_score: 0.8966 - val_loss: 0.4375 - val_precision: 0.8478 - val_recall_1: 0.9512\n",
      "Epoch 15/15\n",
      "\u001b[1m24/24\u001b[0m \u001b[32m━━━━━━━━━━━━━━━━━━━━\u001b[0m\u001b[37m\u001b[0m \u001b[1m746s\u001b[0m 32s/step - accuracy: 0.9936 - f1_score: 0.9895 - loss: 0.0180 - precision: 0.9793 - recall_1: 1.0000 - val_accuracy: 0.9412 - val_f1_score: 0.9070 - val_loss: 0.9120 - val_precision: 0.8667 - val_recall_1: 0.9512\n"
     ]
    }
   ],
   "source": [
    "model_5_128_history = nn_model_5_128.fit(X_train_3D, y_train, epochs=15, batch_size=32, callbacks=[customCallback()], validation_split=0.15)"
   ]
  },
  {
   "cell_type": "code",
   "execution_count": 54,
   "metadata": {},
   "outputs": [],
   "source": [
    "model_df = pd.DataFrame(columns=['epoch','train_f1_score','val_f1_score','train_precision','val_precision','train_recall','val_recall','train_loss','val_loss'])\n",
    "model_df['epoch'] = model_5_128_history.epoch\n",
    "model_df['train_f1_score'] = model_5_128_history.history['f1_score']\n",
    "model_df['val_f1_score'] = model_5_128_history.history['val_f1_score']\n",
    "model_df['train_precision'] = model_5_128_history.history['precision']\n",
    "model_df['val_precision'] = model_5_128_history.history['val_precision']\n",
    "# model_df['train_recall'] = model_5_128_history.history['recall']\n",
    "model_df['train_recall'] = model_5_128_history.history['recall_1']\n",
    "# model_df['val_recall'] = model_5_128_history.history['val_recall']\n",
    "model_df['val_recall'] = model_5_128_history.history['val_recall_1']\n",
    "model_df['train_loss'] = model_5_128_history.history['loss']\n",
    "model_df['val_loss'] = model_5_128_history.history['val_loss']\n",
    "\n",
    "name = []\n",
    "for layer in nn_model_5_128.layers:\n",
    "  name += [str(type(layer)).split(\"'\")[1].split(\".\")[5]]\n",
    "name_count = pd.Series(name).value_counts()\n",
    "name_count_dict = name_count.to_dict()\n",
    "for i in name_count_dict.keys():\n",
    "  start = 0\n",
    "  for j in range(name_count_dict[i]):\n",
    "    ind = name.index(i,start)\n",
    "    name[ind] = str(name[ind]) + str(j + 1)\n",
    "    start = j + 1\n",
    "model_layers = pd.DataFrame(columns=name)\n",
    "for i,w in enumerate(nn_model_5_128.all_weights):\n",
    "  model_layers.loc[i] = w"
   ]
  },
  {
   "cell_type": "code",
   "execution_count": 55,
   "metadata": {},
   "outputs": [
    {
     "data": {
      "image/png": "[encoded data removed]",
      "text/plain": [
       "<Figure size 1600x1600 with 5 Axes>"
      ]
     },
     "metadata": {},
     "output_type": "display_data"
    }
   ],
   "source": [
    "plt.figure(figsize=(16,16))\n",
    "\n",
    "plt.subplot(5,1,1)\n",
    "plt.plot('epoch','train_f1_score',data=model_df,label=\"Train\")\n",
    "plt.plot('epoch','val_f1_score',data=model_df,label='Val')\n",
    "plt.xlabel(\"Epoch\")\n",
    "plt.ylabel(\"F1 Score\")\n",
    "plt.legend()\n",
    "\n",
    "plt.subplot(5,1,2)\n",
    "plt.plot('epoch','train_precision',data=model_df,label=\"Train\")\n",
    "plt.plot('epoch','val_precision',data=model_df,label='Val')\n",
    "plt.xlabel(\"Epoch\")\n",
    "plt.ylabel(\"Precision\")\n",
    "plt.legend()\n",
    "\n",
    "plt.subplot(5,1,3)\n",
    "plt.plot('epoch','train_recall',data=model_df,label=\"Train\")\n",
    "plt.plot('epoch','val_recall',data=model_df,label='Val')\n",
    "plt.xlabel(\"Epoch\")\n",
    "plt.ylabel(\"Recall\")\n",
    "plt.legend()\n",
    "\n",
    "plt.subplot(5,1,4)\n",
    "plt.plot('epoch','train_loss',data=model_df,label=\"Train\")\n",
    "plt.plot('epoch','val_loss',data=model_df,label='Val')\n",
    "plt.xlabel(\"Epoch\")\n",
    "plt.ylabel(\"Loss\")\n",
    "plt.legend()\n",
    "\n",
    "plt.subplot(5,1,5)\n",
    "for col in model_layers.columns:\n",
    "  plt.plot(model_layers.index,col,data=model_layers,label=col)\n",
    "plt.xlabel(\"Epoch\")\n",
    "plt.ylabel(\"Average Weight\")\n",
    "plt.legend()\n",
    "\n",
    "plt.show()"
   ]
  },
  {
   "cell_type": "markdown",
   "metadata": {},
   "source": [
    "## 2.5.2 Evaluation on test set"
   ]
  },
  {
   "cell_type": "code",
   "execution_count": 56,
   "metadata": {},
   "outputs": [
    {
     "name": "stdout",
     "output_type": "stream",
     "text": [
      "\u001b[1m4/4\u001b[0m \u001b[32m━━━━━━━━━━━━━━━━━━━━\u001b[0m\u001b[37m\u001b[0m \u001b[1m1s\u001b[0m 183ms/step\n",
      "\u001b[1m4/4\u001b[0m \u001b[32m━━━━━━━━━━━━━━━━━━━━\u001b[0m\u001b[37m\u001b[0m \u001b[1m1s\u001b[0m 165ms/step - accuracy: 0.9588 - f1_score: 0.9500 - loss: 1.6179 - precision: 0.9665 - recall_1: 0.9349\n",
      "Tuned Neural Network Test Accuracy 0.9646017551422119\n",
      "Tuned Neural Network Test F1 Score 0.9512194395065308\n",
      "Tuned Neural Network Test Precision 0.9750000238418579\n",
      "Tuned Neural Network Test Recall 0.9285714030265808\n"
     ]
    }
   ],
   "source": [
    "pred_probs_tuned=nn_model_5_128.predict(X_test_3D) #Obtain probabilities for each test image\n",
    "test_loss_tuned, test_accuracy_tuned, test_f1_score_tuned, test_precision_tuned, test_recall_tuned = nn_model_5_128.evaluate(X_test_3D, y_test)\n",
    "print(\"Tuned Neural Network Test Accuracy\", test_accuracy_tuned)\n",
    "print(\"Tuned Neural Network Test F1 Score\",test_f1_score_tuned)\n",
    "print(\"Tuned Neural Network Test Precision\", test_precision_tuned)\n",
    "print(\"Tuned Neural Network Test Recall\",test_recall_tuned)"
   ]
  },
  {
   "cell_type": "code",
   "execution_count": 57,
   "metadata": {},
   "outputs": [
    {
     "name": "stdout",
     "output_type": "stream",
     "text": [
      "\n",
      "Confusion Matrix \n",
      "\tTrue Negatives: 71\n",
      "\tFalse Positives: 0\n",
      "\tFalse Negatives: 16\n",
      "\tTrue Positive: 26\n"
     ]
    }
   ],
   "source": [
    "print_confusion_matrix(y_test,preds=pred_probs_tuned)"
   ]
  },
  {
   "cell_type": "markdown",
   "metadata": {},
   "source": [
    "## 2.5.3 Evaluation on outside test set"
   ]
  },
  {
   "cell_type": "code",
   "execution_count": 58,
   "metadata": {},
   "outputs": [],
   "source": [
    "X_test_out_removed_array = X_test_out.to_numpy()\n",
    "X_test_out_3D = X_test_out_removed_array.reshape(X_test_out.shape[0],256,256)"
   ]
  },
  {
   "cell_type": "code",
   "execution_count": 59,
   "metadata": {},
   "outputs": [
    {
     "name": "stdout",
     "output_type": "stream",
     "text": [
      "\u001b[1m25/25\u001b[0m \u001b[32m━━━━━━━━━━━━━━━━━━━━\u001b[0m\u001b[37m\u001b[0m \u001b[1m5s\u001b[0m 192ms/step\n",
      "\u001b[1m25/25\u001b[0m \u001b[32m━━━━━━━━━━━━━━━━━━━━\u001b[0m\u001b[37m\u001b[0m \u001b[1m5s\u001b[0m 199ms/step - accuracy: 0.8992 - f1_score: 0.9284 - loss: 1.8513 - precision: 0.9258 - recall_1: 0.9377\n",
      "Tuned Neural Network Test Accuracy 0.7425000071525574\n",
      "Tuned Neural Network Test F1 Score 0.7831578254699707\n",
      "Tuned Neural Network Test Precision 0.6763636469841003\n",
      "Tuned Neural Network Test Recall 0.9300000071525574\n"
     ]
    }
   ],
   "source": [
    "pred_probs_tuned=nn_model_5_128.predict(X_test_out_3D) #Obtain probabilities for each test image\n",
    "test_out_loss_tuned, test_out_accuracy_tuned, test_out_f1_score_tuned, test_out_precision_tuned, test_out_recall_tuned = nn_model_5_128.evaluate(X_test_out_3D, y_test_out)\n",
    "print(\"Tuned Neural Network Test Accuracy\", test_out_accuracy_tuned)\n",
    "print(\"Tuned Neural Network Test F1 Score\",test_out_f1_score_tuned)\n",
    "print(\"Tuned Neural Network Test Precision\", test_out_precision_tuned)\n",
    "print(\"Tuned Neural Network Test Recall\",test_out_recall_tuned)"
   ]
  },
  {
   "cell_type": "code",
   "execution_count": 60,
   "metadata": {},
   "outputs": [],
   "source": [
    "# import pickle\n",
    "# pickle.dump(nn_model_5_128, open('neural_net_covid_v_all.pkl','wb'))"
   ]
  },
  {
   "cell_type": "code",
   "execution_count": 61,
   "metadata": {},
   "outputs": [],
   "source": [
    "# nn_model = pickle.load(open('neural_net.pkl','rb'))"
   ]
  },
  {
   "cell_type": "markdown",
   "metadata": {},
   "source": [
    "# Next Steps\n",
    "# 3. Future Opportunities: [1: Covid + Pneumonia; 0: normal]\n",
    "## Regroup data with all Covid and Pneumonia records in the positive class and all normal records in the negative class\n",
    "### Goal: Create model to distinguish between sick and healthy lungs"
   ]
  },
  {
   "cell_type": "markdown",
   "metadata": {},
   "source": [
    "## 3.1 Relabel the target"
   ]
  },
  {
   "cell_type": "code",
   "execution_count": 62,
   "metadata": {},
   "outputs": [],
   "source": [
    "binary_label = []\n",
    "for i in range(len(df)):\n",
    "  if df.loc[i]['label'] == 2:\n",
    "    binary_label += [0]\n",
    "  else:\n",
    "    binary_label += [1]\n",
    "df['binary_label'] = binary_label\n",
    "\n",
    "binary_label = []\n",
    "for i in range(len(df_test)):\n",
    "  if df_test.loc[i]['label'] == 2:\n",
    "    binary_label += [0]\n",
    "  else:\n",
    "    binary_label += [1]\n",
    "df_test['binary_label'] = binary_label\n",
    "\n",
    "binary_label = []\n",
    "for i in range(len(df_test_out)):\n",
    "  if df_test_out.loc[i]['label'] == 2:\n",
    "    binary_label += [0]\n",
    "  else:\n",
    "    binary_label += [1]\n",
    "df_test_out['binary_label'] = binary_label"
   ]
  },
  {
   "cell_type": "markdown",
   "metadata": {},
   "source": [
    "## 3.2 Exploratory Data Analysis"
   ]
  },
  {
   "cell_type": "code",
   "execution_count": 63,
   "metadata": {},
   "outputs": [
    {
     "data": {
      "text/plain": [
       "binary_label\n",
       "0    382\n",
       "1    522\n",
       "Name: feature0, dtype: int64"
      ]
     },
     "execution_count": 63,
     "metadata": {},
     "output_type": "execute_result"
    }
   ],
   "source": [
    "df['feature0'].groupby(df['binary_label']).count()"
   ]
  },
  {
   "cell_type": "code",
   "execution_count": 64,
   "metadata": {},
   "outputs": [],
   "source": [
    "features=[col for col in df.columns if col not in ['index','Unnamed: 0','label','binary_label','Image_Path']]\n",
    "X_train=df[features]\n",
    "X_test=df_test[features]\n",
    "X_test_out=df_test_out[features]\n",
    "y_train=df['binary_label']\n",
    "y_test=df_test['binary_label']\n",
    "y_test_out=df_test_out['binary_label']"
   ]
  },
  {
   "cell_type": "code",
   "execution_count": 65,
   "metadata": {},
   "outputs": [
    {
     "data": {
      "text/plain": [
       "(904, 65536)"
      ]
     },
     "execution_count": 65,
     "metadata": {},
     "output_type": "execute_result"
    }
   ],
   "source": [
    "X_train.shape"
   ]
  },
  {
   "cell_type": "markdown",
   "metadata": {},
   "source": [
    "## 3.3 Hyperparameters:\n",
    "\n",
    "models were tuned in other jupyter notebook files, the hyperparameters for lr, dt, rf, xgb, svm models are as bellow:\n",
    "\n",
    "<img src=\"picture3.png\" alt=\"My Image\" width=\"600\"/>"
   ]
  },
  {
   "cell_type": "markdown",
   "metadata": {},
   "source": [
    "## 3.4 Fine tuned lr, dt, rf, xgb, svm models:"
   ]
  },
  {
   "cell_type": "code",
   "execution_count": 66,
   "metadata": {},
   "outputs": [],
   "source": [
    "# Load the models\n",
    "with open(model_path + '/best_lr_model_augument_2.pkl', 'rb') as file:\n",
    "    best_lr = pickle.load(file)\n",
    "\n",
    "with open(model_path + '/best_decision_tree_model_augument_2.pkl', 'rb') as file:\n",
    "    best_dt = pickle.load(file)\n",
    "\n",
    "with open(model_path + '/best_random_forest_model_augument_2.pkl', 'rb') as file:\n",
    "    best_rf = pickle.load(file)\n",
    "\n",
    "with open(model_path + '/best_xgboost_model_augument_2.pkl', 'rb') as file:\n",
    "    best_xgb = pickle.load(file)\n",
    "\n",
    "with open(model_path + '/best_svm_model_augument_2.pkl', 'rb') as file:\n",
    "    best_svm_rbf = pickle.load(file)\n",
    "\n",
    "with open(model_path + '/best_svm_linear_model_augument_2.pkl', 'rb') as file:\n",
    "    best_svm_linear = pickle.load(file)"
   ]
  },
  {
   "cell_type": "markdown",
   "metadata": {},
   "source": [
    "## 3.4.1 Evaluation on test set"
   ]
  },
  {
   "cell_type": "code",
   "execution_count": 67,
   "metadata": {},
   "outputs": [
    {
     "data": {
      "text/html": [
       "<div>\n",
       "<style scoped>\n",
       "    .dataframe tbody tr th:only-of-type {\n",
       "        vertical-align: middle;\n",
       "    }\n",
       "\n",
       "    .dataframe tbody tr th {\n",
       "        vertical-align: top;\n",
       "    }\n",
       "\n",
       "    .dataframe thead th {\n",
       "        text-align: right;\n",
       "    }\n",
       "</style>\n",
       "<table border=\"1\" class=\"dataframe\">\n",
       "  <thead>\n",
       "    <tr style=\"text-align: right;\">\n",
       "      <th></th>\n",
       "      <th>Name</th>\n",
       "      <th>Accuracy</th>\n",
       "      <th>Precision</th>\n",
       "      <th>Recall</th>\n",
       "      <th>F1_score</th>\n",
       "    </tr>\n",
       "  </thead>\n",
       "  <tbody>\n",
       "    <tr>\n",
       "      <th>0</th>\n",
       "      <td>Logistic Regression_saga</td>\n",
       "      <td>0.840708</td>\n",
       "      <td>0.842105</td>\n",
       "      <td>0.914286</td>\n",
       "      <td>0.876712</td>\n",
       "    </tr>\n",
       "    <tr>\n",
       "      <th>1</th>\n",
       "      <td>Decision Tree</td>\n",
       "      <td>0.769912</td>\n",
       "      <td>0.823529</td>\n",
       "      <td>0.800000</td>\n",
       "      <td>0.811594</td>\n",
       "    </tr>\n",
       "    <tr>\n",
       "      <th>2</th>\n",
       "      <td>Random Forest</td>\n",
       "      <td>0.831858</td>\n",
       "      <td>0.814815</td>\n",
       "      <td>0.942857</td>\n",
       "      <td>0.874172</td>\n",
       "    </tr>\n",
       "    <tr>\n",
       "      <th>3</th>\n",
       "      <td>Xgboost</td>\n",
       "      <td>0.867257</td>\n",
       "      <td>0.866667</td>\n",
       "      <td>0.928571</td>\n",
       "      <td>0.896552</td>\n",
       "    </tr>\n",
       "    <tr>\n",
       "      <th>4</th>\n",
       "      <td>Supper Vector Machine: rbf</td>\n",
       "      <td>0.867257</td>\n",
       "      <td>0.910448</td>\n",
       "      <td>0.871429</td>\n",
       "      <td>0.890511</td>\n",
       "    </tr>\n",
       "    <tr>\n",
       "      <th>5</th>\n",
       "      <td>Supper Vector Machine: linear</td>\n",
       "      <td>0.752212</td>\n",
       "      <td>0.762500</td>\n",
       "      <td>0.871429</td>\n",
       "      <td>0.813333</td>\n",
       "    </tr>\n",
       "  </tbody>\n",
       "</table>\n",
       "</div>"
      ],
      "text/plain": [
       "                            Name  Accuracy  Precision    Recall  F1_score\n",
       "0       Logistic Regression_saga  0.840708   0.842105  0.914286  0.876712\n",
       "1                  Decision Tree  0.769912   0.823529  0.800000  0.811594\n",
       "2                  Random Forest  0.831858   0.814815  0.942857  0.874172\n",
       "3                        Xgboost  0.867257   0.866667  0.928571  0.896552\n",
       "4     Supper Vector Machine: rbf  0.867257   0.910448  0.871429  0.890511\n",
       "5  Supper Vector Machine: linear  0.752212   0.762500  0.871429  0.813333"
      ]
     },
     "execution_count": 67,
     "metadata": {},
     "output_type": "execute_result"
    }
   ],
   "source": [
    "best_model_dict_4 = {'Name':[],\n",
    "             'Accuracy': [],\n",
    "             'Precision': [],\n",
    "             'Recall': [],\n",
    "             'F1_score': []}\n",
    "\n",
    "# best lr \n",
    "accuracy, recall, precision, f1 = get_score(best_lr, X_test, y_test)\n",
    "add_to_dict(best_model_dict_4, 'Logistic Regression', accuracy, precision, recall, f1)\n",
    "\n",
    "# best dt\n",
    "accuracy, recall, precision, f1 = get_score(best_dt, X_test, y_test)\n",
    "add_to_dict(best_model_dict_4, 'Decision Tree', accuracy, precision, recall, f1)\n",
    "\n",
    "# best rf\n",
    "accuracy, recall, precision, f1 = get_score(best_rf, X_test, y_test)\n",
    "add_to_dict(best_model_dict_4, 'Random Forest', accuracy, precision, recall, f1)\n",
    "\n",
    "# best xgb\n",
    "accuracy, recall, precision, f1 = get_score(best_xgb, X_test, y_test)\n",
    "add_to_dict(best_model_dict_4, 'Xgboost', accuracy, precision, recall, f1)\n",
    "\n",
    "# best_svm rbf\n",
    "accuracy, recall, precision, f1 = get_score(best_svm_rbf, X_test, y_test)\n",
    "add_to_dict(best_model_dict_4, 'Supper Vector Machine: rbf', accuracy, precision, recall, f1)\n",
    "\n",
    "# best_svm linear\n",
    "accuracy, recall, precision, f1 = get_score(best_svm_linear, X_test, y_test)\n",
    "add_to_dict(best_model_dict_4, 'Supper Vector Machine: linear', accuracy, precision, recall, f1)\n",
    "\n",
    "# print results\n",
    "results_4 = pd.DataFrame(best_model_dict_4)\n",
    "results_4\n",
    "\n",
    "#results_4.to_csv('result_augument_data_2.csv', index=False)"
   ]
  },
  {
   "cell_type": "markdown",
   "metadata": {},
   "source": [
    "## 3.4.2 Evaluation on outside test set"
   ]
  },
  {
   "cell_type": "code",
   "execution_count": 68,
   "metadata": {},
   "outputs": [
    {
     "data": {
      "text/html": [
       "<div>\n",
       "<style scoped>\n",
       "    .dataframe tbody tr th:only-of-type {\n",
       "        vertical-align: middle;\n",
       "    }\n",
       "\n",
       "    .dataframe tbody tr th {\n",
       "        vertical-align: top;\n",
       "    }\n",
       "\n",
       "    .dataframe thead th {\n",
       "        text-align: right;\n",
       "    }\n",
       "</style>\n",
       "<table border=\"1\" class=\"dataframe\">\n",
       "  <thead>\n",
       "    <tr style=\"text-align: right;\">\n",
       "      <th></th>\n",
       "      <th>Name</th>\n",
       "      <th>Accuracy</th>\n",
       "      <th>Precision</th>\n",
       "      <th>Recall</th>\n",
       "      <th>F1_score</th>\n",
       "    </tr>\n",
       "  </thead>\n",
       "  <tbody>\n",
       "    <tr>\n",
       "      <th>0</th>\n",
       "      <td>Logistic Regression_saga</td>\n",
       "      <td>0.73000</td>\n",
       "      <td>0.780702</td>\n",
       "      <td>0.890000</td>\n",
       "      <td>0.831776</td>\n",
       "    </tr>\n",
       "    <tr>\n",
       "      <th>1</th>\n",
       "      <td>Decision Tree</td>\n",
       "      <td>0.65250</td>\n",
       "      <td>0.756369</td>\n",
       "      <td>0.791667</td>\n",
       "      <td>0.773616</td>\n",
       "    </tr>\n",
       "    <tr>\n",
       "      <th>2</th>\n",
       "      <td>Random Forest</td>\n",
       "      <td>0.71375</td>\n",
       "      <td>0.757997</td>\n",
       "      <td>0.908333</td>\n",
       "      <td>0.826384</td>\n",
       "    </tr>\n",
       "    <tr>\n",
       "      <th>3</th>\n",
       "      <td>Xgboost</td>\n",
       "      <td>0.71875</td>\n",
       "      <td>0.762973</td>\n",
       "      <td>0.906667</td>\n",
       "      <td>0.828637</td>\n",
       "    </tr>\n",
       "    <tr>\n",
       "      <th>4</th>\n",
       "      <td>Supper Vector Machine: rbf</td>\n",
       "      <td>0.72375</td>\n",
       "      <td>0.768034</td>\n",
       "      <td>0.905000</td>\n",
       "      <td>0.830910</td>\n",
       "    </tr>\n",
       "    <tr>\n",
       "      <th>5</th>\n",
       "      <td>Supper Vector Machine: linear</td>\n",
       "      <td>0.70250</td>\n",
       "      <td>0.769345</td>\n",
       "      <td>0.861667</td>\n",
       "      <td>0.812893</td>\n",
       "    </tr>\n",
       "  </tbody>\n",
       "</table>\n",
       "</div>"
      ],
      "text/plain": [
       "                            Name  Accuracy  Precision    Recall  F1_score\n",
       "0       Logistic Regression_saga   0.73000   0.780702  0.890000  0.831776\n",
       "1                  Decision Tree   0.65250   0.756369  0.791667  0.773616\n",
       "2                  Random Forest   0.71375   0.757997  0.908333  0.826384\n",
       "3                        Xgboost   0.71875   0.762973  0.906667  0.828637\n",
       "4     Supper Vector Machine: rbf   0.72375   0.768034  0.905000  0.830910\n",
       "5  Supper Vector Machine: linear   0.70250   0.769345  0.861667  0.812893"
      ]
     },
     "execution_count": 68,
     "metadata": {},
     "output_type": "execute_result"
    }
   ],
   "source": [
    "best_model_dict_5 = {'Name':[],\n",
    "             'Accuracy': [],\n",
    "             'Precision': [],\n",
    "             'Recall': [],\n",
    "             'F1_score': []}\n",
    "\n",
    "# best lr \n",
    "accuracy, recall, precision, f1 = get_score(best_lr, X_test_out, y_test_out)\n",
    "add_to_dict(best_model_dict_5, 'Logistic Regression', accuracy, precision, recall, f1)\n",
    "\n",
    "# best dt\n",
    "accuracy, recall, precision, f1 = get_score(best_dt, X_test_out, y_test_out)\n",
    "add_to_dict(best_model_dict_5, 'Decision Tree', accuracy, precision, recall, f1)\n",
    "\n",
    "# best rf\n",
    "accuracy, recall, precision, f1 = get_score(best_rf, X_test_out, y_test_out)\n",
    "add_to_dict(best_model_dict_5, 'Random Forest', accuracy, precision, recall, f1)\n",
    "\n",
    "# best xgb\n",
    "accuracy, recall, precision, f1 = get_score(best_xgb, X_test_out, y_test_out)\n",
    "add_to_dict(best_model_dict_5, 'Xgboost', accuracy, precision, recall, f1)\n",
    "\n",
    "# best_svm rbf\n",
    "accuracy, recall, precision, f1 = get_score(best_svm_rbf, X_test_out, y_test_out)\n",
    "add_to_dict(best_model_dict_5, 'Supper Vector Machine: rbf', accuracy, precision, recall, f1)\n",
    "\n",
    "# best_svm linear\n",
    "accuracy, recall, precision, f1 = get_score(best_svm_linear, X_test_out, y_test_out)\n",
    "add_to_dict(best_model_dict_5, 'Supper Vector Machine: linear', accuracy, precision, recall, f1)\n",
    "\n",
    "# print results\n",
    "results_5 = pd.DataFrame(best_model_dict_5)\n",
    "results_5\n",
    "\n",
    "#results_5.to_csv('result_augument_data_2_out.csv', index=False)"
   ]
  },
  {
   "cell_type": "markdown",
   "metadata": {},
   "source": [
    "## 3.5 Tuned Neural Network"
   ]
  },
  {
   "cell_type": "code",
   "execution_count": 69,
   "metadata": {},
   "outputs": [],
   "source": [
    "X_train_removed_array = X_train.to_numpy()\n",
    "X_train_3D = X_train_removed_array.reshape(X_train.shape[0],256,256)\n",
    "X_test_removed_array = X_test.to_numpy()\n",
    "X_test_3D = X_test_removed_array.reshape((X_test.shape[0],256,-1))\n"
   ]
  },
  {
   "cell_type": "markdown",
   "metadata": {},
   "source": [
    "## 3.5.1 Model Trainning"
   ]
  },
  {
   "cell_type": "code",
   "execution_count": 70,
   "metadata": {},
   "outputs": [
    {
     "name": "stderr",
     "output_type": "stream",
     "text": [
      "/Library/Frameworks/Python.framework/Versions/3.10/lib/python3.10/site-packages/keras/src/layers/convolutional/base_conv.py:107: UserWarning: Do not pass an `input_shape`/`input_dim` argument to a layer. When using Sequential models, prefer using an `Input(shape)` object as the first layer in the model instead.\n",
      "  super().__init__(activity_regularizer=activity_regularizer, **kwargs)\n"
     ]
    }
   ],
   "source": [
    "def create_nn_new(input_shape):\n",
    "    model = Sequential() # Creates instance of Sequential model, model for NN where layers are added up in sequence (One input tensor and one output tensor)\n",
    "    model.add(Conv2D(filters=100, kernel_size=5, activation='relu', input_shape=input_shape)) # 1D convolutional layer to model, 64 neurons, each filter extracts different features from input data\n",
    "    # Kernel size 3, each filter covers 3 units in the input dimension. Relu, allows the model to capture non-linear relationships\n",
    "    model.add(MaxPooling2D(pool_size=2)) # Layer reduces the dimensionality of the data by taking the max value over a window of 2 units along each feature dimension\n",
    "    # Makes the model more efficient and less sensitive to small variation in the position of features\n",
    "    model.add(Flatten()) # Adds flatten layer, converts multidimensional output of previous layers into a 1D array for fully connected layer\n",
    "    model.add(Dense(128, activation='relu')) # Adds dense layer (fully connected), 50 neurons and again uses relu activation\n",
    "    add_layer(model,5,128)\n",
    "    model.add(Dense(64, activation='relu')) # Adds dense layer (fully connected), 50 neurons and again uses relu activation\n",
    "    model.add(Dense(32, activation='relu')) # Adds dense layer (fully connected), 50 neurons and again uses relu activation\n",
    "    model.add(Dense(1, activation='sigmoid'))  # Adds another dense layer, 1 unit for output layer, single neuron whose task is regression. Activation is linear for regression\n",
    "    opt = tf.keras.optimizers.Adam(learning_rate=0.005, beta_1=0.999, beta_2=0.999)\n",
    "    f1_score = tf.keras.metrics.F1Score(threshold=0.5)\n",
    "    precision = tf.keras.metrics.Precision(thresholds=0.5)\n",
    "    recall = tf.keras.metrics.Recall(thresholds=0.5)\n",
    "    model.compile(optimizer=opt, loss=BinaryCrossentropy(), metrics=['accuracy',f1_score,precision,recall]) # Compiles the model, uses Adam optimizer which combines the advantages of Adaptive Gradient Algorithm and Root Mean Square Propagation\n",
    "    # Uses MSE as loss function, typical for regression task\n",
    "    return model\n",
    "\n",
    "input_shape = (256,256,1)  # 12 features, 1 row per input\n",
    "nn_model_new = create_nn_new(input_shape)"
   ]
  },
  {
   "cell_type": "code",
   "execution_count": 71,
   "metadata": {},
   "outputs": [
    {
     "name": "stdout",
     "output_type": "stream",
     "text": [
      "Epoch 1/15\n",
      "\u001b[1m24/24\u001b[0m \u001b[32m━━━━━━━━━━━━━━━━━━━━\u001b[0m\u001b[37m\u001b[0m \u001b[1m109s\u001b[0m 4s/step - accuracy: 0.5290 - f1_score: 0.6133 - loss: 25.6525 - precision_1: 0.5826 - recall_2: 0.6646 - val_accuracy: 0.5368 - val_f1_score: 0.6986 - val_loss: 0.6926 - val_precision_1: 0.5368 - val_recall_2: 1.0000\n",
      "Epoch 2/15\n",
      "\u001b[1m24/24\u001b[0m \u001b[32m━━━━━━━━━━━━━━━━━━━━\u001b[0m\u001b[37m\u001b[0m \u001b[1m88s\u001b[0m 4s/step - accuracy: 0.5845 - f1_score: 0.7377 - loss: 0.6721 - precision_1: 0.5845 - recall_2: 1.0000 - val_accuracy: 0.5368 - val_f1_score: 0.6986 - val_loss: 0.7674 - val_precision_1: 0.5368 - val_recall_2: 1.0000\n",
      "Epoch 3/15\n",
      "\u001b[1m24/24\u001b[0m \u001b[32m━━━━━━━━━━━━━━━━━━━━\u001b[0m\u001b[37m\u001b[0m \u001b[1m88s\u001b[0m 4s/step - accuracy: 0.5845 - f1_score: 0.7377 - loss: 0.6774 - precision_1: 0.5845 - recall_2: 1.0000 - val_accuracy: 0.5368 - val_f1_score: 0.6986 - val_loss: 0.6951 - val_precision_1: 0.5368 - val_recall_2: 1.0000\n",
      "Epoch 4/15\n",
      "\u001b[1m24/24\u001b[0m \u001b[32m━━━━━━━━━━━━━━━━━━━━\u001b[0m\u001b[37m\u001b[0m \u001b[1m90s\u001b[0m 4s/step - accuracy: 0.5845 - f1_score: 0.7377 - loss: 0.6028 - precision_1: 0.5845 - recall_2: 1.0000 - val_accuracy: 0.5368 - val_f1_score: 0.6986 - val_loss: 0.5639 - val_precision_1: 0.5368 - val_recall_2: 1.0000\n",
      "Epoch 5/15\n",
      "\u001b[1m24/24\u001b[0m \u001b[32m━━━━━━━━━━━━━━━━━━━━\u001b[0m\u001b[37m\u001b[0m \u001b[1m92s\u001b[0m 4s/step - accuracy: 0.6007 - f1_score: 0.7432 - loss: 0.4823 - precision_1: 0.5965 - recall_2: 0.9879 - val_accuracy: 0.7794 - val_f1_score: 0.7619 - val_loss: 0.5308 - val_precision_1: 0.9057 - val_recall_2: 0.6575\n",
      "Epoch 6/15\n",
      "\u001b[1m24/24\u001b[0m \u001b[32m━━━━━━━━━━━━━━━━━━━━\u001b[0m\u001b[37m\u001b[0m \u001b[1m97s\u001b[0m 4s/step - accuracy: 0.8477 - f1_score: 0.8526 - loss: 0.4006 - precision_1: 0.9791 - recall_2: 0.7567 - val_accuracy: 0.7941 - val_f1_score: 0.7910 - val_loss: 0.9088 - val_precision_1: 0.8689 - val_recall_2: 0.7260\n",
      "Epoch 7/15\n",
      "\u001b[1m24/24\u001b[0m \u001b[32m━━━━━━━━━━━━━━━━━━━━\u001b[0m\u001b[37m\u001b[0m \u001b[1m91s\u001b[0m 4s/step - accuracy: 0.8545 - f1_score: 0.8604 - loss: 0.3246 - precision_1: 0.9719 - recall_2: 0.7747 - val_accuracy: 0.7721 - val_f1_score: 0.7862 - val_loss: 1.5095 - val_precision_1: 0.7917 - val_recall_2: 0.7808\n",
      "Epoch 8/15\n",
      "\u001b[1m24/24\u001b[0m \u001b[32m━━━━━━━━━━━━━━━━━━━━\u001b[0m\u001b[37m\u001b[0m \u001b[1m97s\u001b[0m 4s/step - accuracy: 0.9169 - f1_score: 0.9260 - loss: 0.2485 - precision_1: 0.9696 - recall_2: 0.8870 - val_accuracy: 0.7721 - val_f1_score: 0.7891 - val_loss: 1.3262 - val_precision_1: 0.7838 - val_recall_2: 0.7945\n",
      "Epoch 9/15\n",
      "\u001b[1m24/24\u001b[0m \u001b[32m━━━━━━━━━━━━━━━━━━━━\u001b[0m\u001b[37m\u001b[0m \u001b[1m90s\u001b[0m 4s/step - accuracy: 0.9291 - f1_score: 0.9353 - loss: 0.1803 - precision_1: 0.9953 - recall_2: 0.8829 - val_accuracy: 0.7206 - val_f1_score: 0.7625 - val_loss: 1.1445 - val_precision_1: 0.7011 - val_recall_2: 0.8356\n",
      "Epoch 10/15\n",
      "\u001b[1m24/24\u001b[0m \u001b[32m━━━━━━━━━━━━━━━━━━━━\u001b[0m\u001b[37m\u001b[0m \u001b[1m94s\u001b[0m 4s/step - accuracy: 0.9425 - f1_score: 0.9492 - loss: 0.1405 - precision_1: 0.9777 - recall_2: 0.9229 - val_accuracy: 0.7647 - val_f1_score: 0.7895 - val_loss: 0.6019 - val_precision_1: 0.7595 - val_recall_2: 0.8219\n",
      "Epoch 11/15\n",
      "\u001b[1m24/24\u001b[0m \u001b[32m━━━━━━━━━━━━━━━━━━━━\u001b[0m\u001b[37m\u001b[0m \u001b[1m95s\u001b[0m 4s/step - accuracy: 0.9641 - f1_score: 0.9692 - loss: 0.1287 - precision_1: 0.9668 - recall_2: 0.9717 - val_accuracy: 0.7574 - val_f1_score: 0.7755 - val_loss: 0.5691 - val_precision_1: 0.7703 - val_recall_2: 0.7808\n",
      "Epoch 12/15\n",
      "\u001b[1m24/24\u001b[0m \u001b[32m━━━━━━━━━━━━━━━━━━━━\u001b[0m\u001b[37m\u001b[0m \u001b[1m94s\u001b[0m 4s/step - accuracy: 0.9772 - f1_score: 0.9800 - loss: 0.0836 - precision_1: 0.9943 - recall_2: 0.9663 - val_accuracy: 0.8309 - val_f1_score: 0.8392 - val_loss: 1.2424 - val_precision_1: 0.8571 - val_recall_2: 0.8219\n",
      "Epoch 13/15\n",
      "\u001b[1m24/24\u001b[0m \u001b[32m━━━━━━━━━━━━━━━━━━━━\u001b[0m\u001b[37m\u001b[0m \u001b[1m90s\u001b[0m 4s/step - accuracy: 0.9733 - f1_score: 0.9769 - loss: 0.0778 - precision_1: 0.9904 - recall_2: 0.9639 - val_accuracy: 0.7426 - val_f1_score: 0.7712 - val_loss: 2.7054 - val_precision_1: 0.7375 - val_recall_2: 0.8082\n",
      "Epoch 14/15\n",
      "\u001b[1m24/24\u001b[0m \u001b[32m━━━━━━━━━━━━━━━━━━━━\u001b[0m\u001b[37m\u001b[0m \u001b[1m94s\u001b[0m 4s/step - accuracy: 0.9800 - f1_score: 0.9824 - loss: 0.0666 - precision_1: 0.9982 - recall_2: 0.9672 - val_accuracy: 0.7721 - val_f1_score: 0.7891 - val_loss: 2.5082 - val_precision_1: 0.7838 - val_recall_2: 0.7945\n",
      "Epoch 15/15\n",
      "\u001b[1m24/24\u001b[0m \u001b[32m━━━━━━━━━━━━━━━━━━━━\u001b[0m\u001b[37m\u001b[0m \u001b[1m88s\u001b[0m 4s/step - accuracy: 0.9890 - f1_score: 0.9905 - loss: 0.0498 - precision_1: 0.9926 - recall_2: 0.9884 - val_accuracy: 0.7500 - val_f1_score: 0.7733 - val_loss: 3.8070 - val_precision_1: 0.7532 - val_recall_2: 0.7945\n"
     ]
    }
   ],
   "source": [
    "model_new_history = nn_model_new.fit(X_train_3D, y_train, epochs=15, batch_size=32, callbacks=[customCallback()], validation_split=0.15)"
   ]
  },
  {
   "cell_type": "markdown",
   "metadata": {},
   "source": [
    "## 3.5.2 Evaluation on test set"
   ]
  },
  {
   "cell_type": "code",
   "execution_count": 72,
   "metadata": {},
   "outputs": [
    {
     "name": "stdout",
     "output_type": "stream",
     "text": [
      "\u001b[1m4/4\u001b[0m \u001b[32m━━━━━━━━━━━━━━━━━━━━\u001b[0m\u001b[37m\u001b[0m \u001b[1m1s\u001b[0m 209ms/step\n",
      "\u001b[1m4/4\u001b[0m \u001b[32m━━━━━━━━━━━━━━━━━━━━\u001b[0m\u001b[37m\u001b[0m \u001b[1m1s\u001b[0m 190ms/step - accuracy: 0.7884 - f1_score: 0.8392 - loss: 2.7627 - precision_1: 0.8286 - recall_2: 0.8507\n",
      "Tuned Neural Network Test Accuracy 0.7964601516723633\n",
      "Tuned Neural Network Test F1 Score 0.8391607999801636\n",
      "Tuned Neural Network Test Precision 0.8219178318977356\n",
      "Tuned Neural Network Test Recall 0.8571428656578064\n"
     ]
    }
   ],
   "source": [
    "pred_probs_tuned=nn_model_new.predict(X_test_3D) #Obtain probabilities for each test image\n",
    "test_loss_tuned, test_accuracy_tuned, test_f1_score_tuned, test_precision_tuned, test_recall_tuned = nn_model_new.evaluate(X_test_3D, y_test)\n",
    "print(\"Tuned Neural Network Test Accuracy\", test_accuracy_tuned)\n",
    "print(\"Tuned Neural Network Test F1 Score\",test_f1_score_tuned)\n",
    "print(\"Tuned Neural Network Test Precision\", test_precision_tuned)\n",
    "print(\"Tuned Neural Network Test Recall\",test_recall_tuned)"
   ]
  },
  {
   "cell_type": "code",
   "execution_count": 73,
   "metadata": {},
   "outputs": [],
   "source": [
    "model_df = pd.DataFrame(columns=['epoch','train_f1_score','val_f1_score','train_precision','val_precision','train_recall','val_recall','train_loss','val_loss'])\n",
    "model_df['epoch'] = model_new_history.epoch\n",
    "model_df['train_f1_score'] = model_new_history.history['f1_score']\n",
    "model_df['val_f1_score'] = model_new_history.history['val_f1_score']\n",
    "model_df['train_precision'] = model_new_history.history['precision_1']\n",
    "model_df['val_precision'] = model_new_history.history['val_precision_1']\n",
    "model_df['train_recall'] = model_new_history.history['recall_2']\n",
    "model_df['val_recall'] = model_new_history.history['val_recall_2']\n",
    "model_df['train_loss'] = model_new_history.history['loss']\n",
    "model_df['val_loss'] = model_new_history.history['val_loss']\n",
    "\n",
    "name = []\n",
    "for layer in nn_model_new.layers:\n",
    "  name += [str(type(layer)).split(\"'\")[1].split(\".\")[5]]\n",
    "name_count = pd.Series(name).value_counts()\n",
    "name_count_dict = name_count.to_dict()\n",
    "for i in name_count_dict.keys():\n",
    "  start = 0\n",
    "  for j in range(name_count_dict[i]):\n",
    "    ind = name.index(i,start)\n",
    "    name[ind] = str(name[ind]) + str(j + 1)\n",
    "    start = j + 1\n",
    "model_layers = pd.DataFrame(columns=name)\n",
    "for i,w in enumerate(nn_model_new.all_weights):\n",
    "  model_layers.loc[i] = w"
   ]
  },
  {
   "cell_type": "code",
   "execution_count": 74,
   "metadata": {},
   "outputs": [
    {
     "data": {
      "image/png": "[encoded data removed]",
      "text/plain": [
       "<Figure size 1600x1600 with 5 Axes>"
      ]
     },
     "metadata": {},
     "output_type": "display_data"
    }
   ],
   "source": [
    "plt.figure(figsize=(16,16))\n",
    "\n",
    "plt.subplot(5,1,1)\n",
    "plt.plot('epoch','train_f1_score',data=model_df,label=\"Train\")\n",
    "plt.plot('epoch','val_f1_score',data=model_df,label='Val')\n",
    "plt.xlabel(\"Epoch\")\n",
    "plt.ylabel(\"F1 Score\")\n",
    "plt.legend()\n",
    "\n",
    "plt.subplot(5,1,2)\n",
    "plt.plot('epoch','train_precision',data=model_df,label=\"Train\")\n",
    "plt.plot('epoch','val_precision',data=model_df,label='Val')\n",
    "plt.xlabel(\"Epoch\")\n",
    "plt.ylabel(\"Precision\")\n",
    "plt.legend()\n",
    "\n",
    "plt.subplot(5,1,3)\n",
    "plt.plot('epoch','train_recall',data=model_df,label=\"Train\")\n",
    "plt.plot('epoch','val_recall',data=model_df,label='Val')\n",
    "plt.xlabel(\"Epoch\")\n",
    "plt.ylabel(\"Recall\")\n",
    "plt.legend()\n",
    "\n",
    "plt.subplot(5,1,4)\n",
    "plt.plot('epoch','train_loss',data=model_df,label=\"Train\")\n",
    "plt.plot('epoch','val_loss',data=model_df,label='Val')\n",
    "plt.xlabel(\"Epoch\")\n",
    "plt.ylabel(\"Loss\")\n",
    "plt.legend()\n",
    "\n",
    "plt.subplot(5,1,5)\n",
    "for col in model_layers.columns:\n",
    "  plt.plot(model_layers.index,col,data=model_layers,label=col)\n",
    "plt.xlabel(\"Epoch\")\n",
    "plt.ylabel(\"Average Weight\")\n",
    "plt.legend()\n",
    "\n",
    "plt.show()"
   ]
  },
  {
   "cell_type": "code",
   "execution_count": 75,
   "metadata": {},
   "outputs": [],
   "source": [
    "# pickle.dump(nn_model_new, open('neural_net_covid_v_all_2.pkl','wb'))"
   ]
  },
  {
   "cell_type": "markdown",
   "metadata": {},
   "source": [
    "## 3.5.3 Evaluation on outside test"
   ]
  },
  {
   "cell_type": "code",
   "execution_count": 76,
   "metadata": {},
   "outputs": [],
   "source": [
    "X_test_out_removed_array = X_test_out.to_numpy()\n",
    "X_test_out_3D = X_test_out_removed_array.reshape((X_test_out.shape[0],256,-1))"
   ]
  },
  {
   "cell_type": "code",
   "execution_count": 77,
   "metadata": {},
   "outputs": [
    {
     "name": "stdout",
     "output_type": "stream",
     "text": [
      "\u001b[1m25/25\u001b[0m \u001b[32m━━━━━━━━━━━━━━━━━━━━\u001b[0m\u001b[37m\u001b[0m \u001b[1m7s\u001b[0m 256ms/step\n",
      "\u001b[1m25/25\u001b[0m \u001b[32m━━━━━━━━━━━━━━━━━━━━\u001b[0m\u001b[37m\u001b[0m \u001b[1m6s\u001b[0m 241ms/step - accuracy: 0.8169 - f1_score: 0.8949 - loss: 4.1604 - precision_1: 0.9592 - recall_2: 0.8407\n",
      "Tuned Neural Network Test Accuracy 0.6924999952316284\n",
      "Tuned Neural Network Test F1 Score 0.7999999523162842\n",
      "Tuned Neural Network Test Precision 0.7809523940086365\n",
      "Tuned Neural Network Test Recall 0.8199999928474426\n"
     ]
    }
   ],
   "source": [
    "pred_probs_tuned=nn_model_new.predict(X_test_out_3D) #Obtain probabilities for each test image\n",
    "test_loss_tuned, test_accuracy_tuned, test_f1_score_tuned, test_precision_tuned, test_recall_tuned = nn_model_new.evaluate(X_test_out_3D, y_test_out)\n",
    "print(\"Tuned Neural Network Test Accuracy\", test_accuracy_tuned)\n",
    "print(\"Tuned Neural Network Test F1 Score\",test_f1_score_tuned)\n",
    "print(\"Tuned Neural Network Test Precision\", test_precision_tuned)\n",
    "print(\"Tuned Neural Network Test Recall\",test_recall_tuned)"
   ]
  }
 ],
 "metadata": {
  "kernelspec": {
   "display_name": "Python 3",
   "language": "python",
   "name": "python3"
  },
  "language_info": {
   "codemirror_mode": {
    "name": "ipython",
    "version": 3
   },
   "file_extension": ".py",
   "mimetype": "text/x-python",
   "name": "python",
   "nbconvert_exporter": "python",
   "pygments_lexer": "ipython3",
   "version": "3.10.7"
  }
 },
 "nbformat": 4,
 "nbformat_minor": 2
}
